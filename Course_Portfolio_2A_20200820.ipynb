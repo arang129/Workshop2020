{
 "cells": [
  {
   "cell_type": "markdown",
   "metadata": {
    "slideshow": {
     "slide_type": "slide"
    }
   },
   "source": [
    "\n",
    "<p><img  src=https://www.yuntech.edu.tw/images/mainmenu/about/yuntech_logo.jpg alt=\"Colaboratory logo\" height=\"45px\" width=\"28\" align=\"left\" hspace=\"10px\" vspace=\"27px\" style=\"margin: 27px 10px\"></p>\n",
    "<h1><font color=\"black\" size=5> 金融數據分析與程式設計: </font><font color=\"Green\" size=4>Part2 投資組合與資金配置</font></h1>\n",
    "\n",
    "#### 歡迎各位同學來到這門課\n",
    "\n",
    "- 金融數據分析與程式設計**Part1**: 結合`技術分析`觀念與`python程式`決定單支股票買點或賣點\n",
    "- 金融數據分析與程式設計**Part2**: 使用`python`套件`Scipy.optimize`分析購買2支以上的股票之**最適資金分配比例**\n",
    "\n",
    "<h4 style=\"font-weight: bold\" align=\"right\"><font color=\"blue\" size=3> 作者：賴怡洵</font> <font size=1>in 2020/08/21</font></h4>\n",
    "\n",
    "---\n"
   ]
  },
  {
   "cell_type": "markdown",
   "metadata": {
    "slideshow": {
     "slide_type": "slide"
    }
   },
   "source": [
    "### 範例：2資產投資組合\n",
    "- 以台積電(2330.TW)與台泥(1101.TW)為範例來進行說明\n",
    "- [2330.TW 資料來源：yahoo finance](https://finance.yahoo.com/quote/2330.TW/history?p=2330.TW)\n",
    "- [1101.TW 資料來源：yahoo finance](https://finance.yahoo.com/quote/1101.TW/history?p=1101.TW)\n",
    "- 資料期間：2020/01/01至2020/07/31"
   ]
  },
  {
   "cell_type": "markdown",
   "metadata": {
    "slideshow": {
     "slide_type": "slide"
    }
   },
   "source": [
    "##  1. 安裝套件\n",
    "\n",
    "  * pip install yfinance: yfinance 是yahoo finance的package, 安裝yahoo finance\n"
   ]
  },
  {
   "cell_type": "code",
   "execution_count": 1,
   "metadata": {
    "scrolled": true,
    "slideshow": {
     "slide_type": "slide"
    }
   },
   "outputs": [
    {
     "name": "stdout",
     "output_type": "stream",
     "text": [
      "Requirement already satisfied: yfinance in /opt/tljh/user/lib/python3.7/site-packages (0.1.54)\n",
      "Requirement already satisfied: requests>=2.20 in /opt/tljh/user/lib/python3.7/site-packages (from yfinance) (2.22.0)\n",
      "Requirement already satisfied: numpy>=1.15 in /opt/tljh/user/lib/python3.7/site-packages (from yfinance) (1.19.1)\n",
      "Requirement already satisfied: multitasking>=0.0.7 in /opt/tljh/user/lib/python3.7/site-packages (from yfinance) (0.0.9)\n",
      "Requirement already satisfied: pandas>=0.24 in /opt/tljh/user/lib/python3.7/site-packages (from yfinance) (1.1.0)\n",
      "Requirement already satisfied: idna<2.9,>=2.5 in /opt/tljh/user/lib/python3.7/site-packages (from requests>=2.20->yfinance) (2.8)\n",
      "Requirement already satisfied: urllib3!=1.25.0,!=1.25.1,<1.26,>=1.21.1 in /opt/tljh/user/lib/python3.7/site-packages (from requests>=2.20->yfinance) (1.24.2)\n",
      "Requirement already satisfied: chardet<3.1.0,>=3.0.2 in /opt/tljh/user/lib/python3.7/site-packages (from requests>=2.20->yfinance) (3.0.4)\n",
      "Requirement already satisfied: certifi>=2017.4.17 in /opt/tljh/user/lib/python3.7/site-packages (from requests>=2.20->yfinance) (2020.6.20)\n",
      "Requirement already satisfied: pytz>=2017.2 in /opt/tljh/user/lib/python3.7/site-packages (from pandas>=0.24->yfinance) (2020.1)\n",
      "Requirement already satisfied: python-dateutil>=2.7.3 in /opt/tljh/user/lib/python3.7/site-packages (from pandas>=0.24->yfinance) (2.8.1)\n",
      "Requirement already satisfied: six>=1.5 in /opt/tljh/user/lib/python3.7/site-packages (from python-dateutil>=2.7.3->pandas>=0.24->yfinance) (1.12.0)\n",
      "Note: you may need to restart the kernel to use updated packages.\n"
     ]
    }
   ],
   "source": [
    "pip install yfinance"
   ]
  },
  {
   "cell_type": "code",
   "execution_count": 2,
   "metadata": {
    "slideshow": {
     "slide_type": "skip"
    }
   },
   "outputs": [
    {
     "name": "stdout",
     "output_type": "stream",
     "text": [
      "Requirement already satisfied: pyecharts in /opt/tljh/user/lib/python3.7/site-packages (1.8.1)\n",
      "Requirement already satisfied: jinja2 in /opt/tljh/user/lib/python3.7/site-packages (from pyecharts) (2.11.2)\n",
      "Requirement already satisfied: simplejson in /opt/tljh/user/lib/python3.7/site-packages (from pyecharts) (3.17.2)\n",
      "Requirement already satisfied: prettytable in /opt/tljh/user/lib/python3.7/site-packages (from pyecharts) (0.7.2)\n",
      "Requirement already satisfied: MarkupSafe>=0.23 in /opt/tljh/user/lib/python3.7/site-packages (from jinja2->pyecharts) (1.1.1)\n",
      "Note: you may need to restart the kernel to use updated packages.\n"
     ]
    }
   ],
   "source": [
    "pip install pyecharts"
   ]
  },
  {
   "cell_type": "markdown",
   "metadata": {
    "slideshow": {
     "slide_type": "slide"
    }
   },
   "source": [
    "## 2. 匯入套件\n",
    "**匯入會用到的套件：** \\\n",
    "`Pandas`、`Numpy`、`datetime`、`Pandas_datareader`、`Matplotlib`、`Pyecharts`、`yfinance`"
   ]
  },
  {
   "cell_type": "code",
   "execution_count": 3,
   "metadata": {
    "slideshow": {
     "slide_type": "slide"
    }
   },
   "outputs": [],
   "source": [
    "import pandas as pd\n",
    "pd.core.common.is_list_like = pd.api.types.is_list_like\n",
    "import numpy as np\n",
    "import datetime as dt\n",
    "import pandas_datareader as web\n",
    "import yfinance as yf\n",
    "import matplotlib.pyplot as plt\n",
    "from pyecharts import options as opts   \n",
    "from pyecharts.charts import Kline"
   ]
  },
  {
   "cell_type": "code",
   "execution_count": 4,
   "metadata": {
    "slideshow": {
     "slide_type": "slide"
    }
   },
   "outputs": [
    {
     "data": {
      "text/html": [
       "<div>\n",
       "<style scoped>\n",
       "    .dataframe tbody tr th:only-of-type {\n",
       "        vertical-align: middle;\n",
       "    }\n",
       "\n",
       "    .dataframe tbody tr th {\n",
       "        vertical-align: top;\n",
       "    }\n",
       "\n",
       "    .dataframe thead tr th {\n",
       "        text-align: left;\n",
       "    }\n",
       "\n",
       "    .dataframe thead tr:last-of-type th {\n",
       "        text-align: right;\n",
       "    }\n",
       "</style>\n",
       "<table border=\"1\" class=\"dataframe\">\n",
       "  <thead>\n",
       "    <tr>\n",
       "      <th>Attributes</th>\n",
       "      <th>Adj Close</th>\n",
       "    </tr>\n",
       "    <tr>\n",
       "      <th>Symbols</th>\n",
       "      <th>2330.TW</th>\n",
       "    </tr>\n",
       "    <tr>\n",
       "      <th>Date</th>\n",
       "      <th></th>\n",
       "    </tr>\n",
       "  </thead>\n",
       "  <tbody>\n",
       "    <tr>\n",
       "      <th>2020-01-02</th>\n",
       "      <td>333.075775</td>\n",
       "    </tr>\n",
       "    <tr>\n",
       "      <th>2020-01-03</th>\n",
       "      <td>333.567047</td>\n",
       "    </tr>\n",
       "    <tr>\n",
       "      <th>2020-01-06</th>\n",
       "      <td>326.198120</td>\n",
       "    </tr>\n",
       "    <tr>\n",
       "      <th>2020-01-07</th>\n",
       "      <td>323.741791</td>\n",
       "    </tr>\n",
       "    <tr>\n",
       "      <th>2020-01-08</th>\n",
       "      <td>323.741791</td>\n",
       "    </tr>\n",
       "  </tbody>\n",
       "</table>\n",
       "</div>"
      ],
      "text/plain": [
       "Attributes   Adj Close\n",
       "Symbols        2330.TW\n",
       "Date                  \n",
       "2020-01-02  333.075775\n",
       "2020-01-03  333.567047\n",
       "2020-01-06  326.198120\n",
       "2020-01-07  323.741791\n",
       "2020-01-08  323.741791"
      ]
     },
     "execution_count": 4,
     "metadata": {},
     "output_type": "execute_result"
    }
   ],
   "source": [
    "yf.pdr_override()\n",
    "start_date = dt.datetime(2020, 1, 1)   ##下載交易日起始日期##\n",
    "end_date= dt.datetime(2020, 7, 31)     ##下載交易日結束日期##\n",
    "stock_id='2330.TW'\n",
    "s2330 = web.get_data_yahoo([stock_id], start_date, end_date)\n",
    "s2330_AdjCP=s2330[[\"Adj Close\"]]\n",
    "s2330_AdjCP.head(5)"
   ]
  },
  {
   "cell_type": "code",
   "execution_count": 5,
   "metadata": {
    "slideshow": {
     "slide_type": "slide"
    }
   },
   "outputs": [
    {
     "data": {
      "text/html": [
       "<div>\n",
       "<style scoped>\n",
       "    .dataframe tbody tr th:only-of-type {\n",
       "        vertical-align: middle;\n",
       "    }\n",
       "\n",
       "    .dataframe tbody tr th {\n",
       "        vertical-align: top;\n",
       "    }\n",
       "\n",
       "    .dataframe thead tr th {\n",
       "        text-align: left;\n",
       "    }\n",
       "\n",
       "    .dataframe thead tr:last-of-type th {\n",
       "        text-align: right;\n",
       "    }\n",
       "</style>\n",
       "<table border=\"1\" class=\"dataframe\">\n",
       "  <thead>\n",
       "    <tr>\n",
       "      <th>Attributes</th>\n",
       "      <th>Adj Close</th>\n",
       "    </tr>\n",
       "    <tr>\n",
       "      <th>Symbols</th>\n",
       "      <th>1101.TW</th>\n",
       "    </tr>\n",
       "    <tr>\n",
       "      <th>Date</th>\n",
       "      <th></th>\n",
       "    </tr>\n",
       "  </thead>\n",
       "  <tbody>\n",
       "    <tr>\n",
       "      <th>2020-01-02</th>\n",
       "      <td>41.609627</td>\n",
       "    </tr>\n",
       "    <tr>\n",
       "      <th>2020-01-03</th>\n",
       "      <td>41.468098</td>\n",
       "    </tr>\n",
       "    <tr>\n",
       "      <th>2020-01-06</th>\n",
       "      <td>40.996334</td>\n",
       "    </tr>\n",
       "    <tr>\n",
       "      <th>2020-01-07</th>\n",
       "      <td>41.137859</td>\n",
       "    </tr>\n",
       "    <tr>\n",
       "      <th>2020-01-08</th>\n",
       "      <td>40.949158</td>\n",
       "    </tr>\n",
       "  </tbody>\n",
       "</table>\n",
       "</div>"
      ],
      "text/plain": [
       "Attributes  Adj Close\n",
       "Symbols       1101.TW\n",
       "Date                 \n",
       "2020-01-02  41.609627\n",
       "2020-01-03  41.468098\n",
       "2020-01-06  40.996334\n",
       "2020-01-07  41.137859\n",
       "2020-01-08  40.949158"
      ]
     },
     "execution_count": 5,
     "metadata": {},
     "output_type": "execute_result"
    }
   ],
   "source": [
    "yf.pdr_override()\n",
    "start_date = dt.datetime(2020, 1, 1)   ##下載交易日起始日期##\n",
    "end_date= dt.datetime(2020, 7, 31)     ##下載交易日結束日期##\n",
    "stock_id='1101.TW'\n",
    "s1101 = web.get_data_yahoo([stock_id], start_date, end_date)\n",
    "s1101_AdjCP=s1101[[\"Adj Close\"]]\n",
    "s1101_AdjCP.head(5)"
   ]
  },
  {
   "cell_type": "code",
   "execution_count": 6,
   "metadata": {
    "slideshow": {
     "slide_type": "slide"
    }
   },
   "outputs": [],
   "source": [
    "Adj_Close_Price = pd.concat([s2330_AdjCP, s1101_AdjCP], axis=1)\n",
    "Adj_Close_Price.tail(10)\n",
    "#Stock_Returns=Adj_Close_Price.pct_change()\n",
    "Stock_Returns=Adj_Close_Price[\"Adj Close\"].diff(1)/Adj_Close_Price[\"Adj Close\"].shift(1)\n",
    "Stock_Returns=Stock_Returns.dropna()  ###利用 dropna() 來移除任何資料存有遺漏值\n",
    "Stock_Returns.head(10)\n",
    "#n=len(Stock_Returns)    ###計算樣本數\n",
    "#n\n",
    "Stock_Returns.to_excel('Stock_Returns.xlsx', sheet_name='Stock_Return')"
   ]
  },
  {
   "cell_type": "code",
   "execution_count": 7,
   "metadata": {
    "slideshow": {
     "slide_type": "slide"
    }
   },
   "outputs": [
    {
     "data": {
      "text/html": [
       "<div>\n",
       "<style scoped>\n",
       "    .dataframe tbody tr th:only-of-type {\n",
       "        vertical-align: middle;\n",
       "    }\n",
       "\n",
       "    .dataframe tbody tr th {\n",
       "        vertical-align: top;\n",
       "    }\n",
       "\n",
       "    .dataframe thead th {\n",
       "        text-align: right;\n",
       "    }\n",
       "</style>\n",
       "<table border=\"1\" class=\"dataframe\">\n",
       "  <thead>\n",
       "    <tr style=\"text-align: right;\">\n",
       "      <th>Symbols</th>\n",
       "      <th>2330.TW</th>\n",
       "      <th>1101.TW</th>\n",
       "    </tr>\n",
       "  </thead>\n",
       "  <tbody>\n",
       "    <tr>\n",
       "      <th>count</th>\n",
       "      <td>138.000000</td>\n",
       "      <td>138.000000</td>\n",
       "    </tr>\n",
       "    <tr>\n",
       "      <th>mean</th>\n",
       "      <td>0.002015</td>\n",
       "      <td>-0.000061</td>\n",
       "    </tr>\n",
       "    <tr>\n",
       "      <th>std</th>\n",
       "      <td>0.022079</td>\n",
       "      <td>0.017199</td>\n",
       "    </tr>\n",
       "    <tr>\n",
       "      <th>min</th>\n",
       "      <td>-0.055556</td>\n",
       "      <td>-0.068966</td>\n",
       "    </tr>\n",
       "    <tr>\n",
       "      <th>25%</th>\n",
       "      <td>-0.010764</td>\n",
       "      <td>-0.005775</td>\n",
       "    </tr>\n",
       "    <tr>\n",
       "      <th>50%</th>\n",
       "      <td>0.002153</td>\n",
       "      <td>0.001191</td>\n",
       "    </tr>\n",
       "    <tr>\n",
       "      <th>75%</th>\n",
       "      <td>0.011986</td>\n",
       "      <td>0.006987</td>\n",
       "    </tr>\n",
       "    <tr>\n",
       "      <th>max</th>\n",
       "      <td>0.099741</td>\n",
       "      <td>0.099702</td>\n",
       "    </tr>\n",
       "  </tbody>\n",
       "</table>\n",
       "</div>"
      ],
      "text/plain": [
       "Symbols     2330.TW     1101.TW\n",
       "count    138.000000  138.000000\n",
       "mean       0.002015   -0.000061\n",
       "std        0.022079    0.017199\n",
       "min       -0.055556   -0.068966\n",
       "25%       -0.010764   -0.005775\n",
       "50%        0.002153    0.001191\n",
       "75%        0.011986    0.006987\n",
       "max        0.099741    0.099702"
      ]
     },
     "execution_count": 7,
     "metadata": {},
     "output_type": "execute_result"
    }
   ],
   "source": [
    "Stock_Returns.describe()"
   ]
  },
  {
   "cell_type": "code",
   "execution_count": 8,
   "metadata": {
    "slideshow": {
     "slide_type": "slide"
    }
   },
   "outputs": [
    {
     "data": {
      "text/html": [
       "<div>\n",
       "<style scoped>\n",
       "    .dataframe tbody tr th:only-of-type {\n",
       "        vertical-align: middle;\n",
       "    }\n",
       "\n",
       "    .dataframe tbody tr th {\n",
       "        vertical-align: top;\n",
       "    }\n",
       "\n",
       "    .dataframe thead th {\n",
       "        text-align: right;\n",
       "    }\n",
       "</style>\n",
       "<table border=\"1\" class=\"dataframe\">\n",
       "  <thead>\n",
       "    <tr style=\"text-align: right;\">\n",
       "      <th>Symbols</th>\n",
       "      <th>2330.TW</th>\n",
       "      <th>1101.TW</th>\n",
       "    </tr>\n",
       "    <tr>\n",
       "      <th>Symbols</th>\n",
       "      <th></th>\n",
       "      <th></th>\n",
       "    </tr>\n",
       "  </thead>\n",
       "  <tbody>\n",
       "    <tr>\n",
       "      <th>2330.TW</th>\n",
       "      <td>1.000000</td>\n",
       "      <td>0.601023</td>\n",
       "    </tr>\n",
       "    <tr>\n",
       "      <th>1101.TW</th>\n",
       "      <td>0.601023</td>\n",
       "      <td>1.000000</td>\n",
       "    </tr>\n",
       "  </tbody>\n",
       "</table>\n",
       "</div>"
      ],
      "text/plain": [
       "Symbols   2330.TW   1101.TW\n",
       "Symbols                    \n",
       "2330.TW  1.000000  0.601023\n",
       "1101.TW  0.601023  1.000000"
      ]
     },
     "execution_count": 8,
     "metadata": {},
     "output_type": "execute_result"
    }
   ],
   "source": [
    "Stock_Returns.corr()"
   ]
  },
  {
   "cell_type": "code",
   "execution_count": 9,
   "metadata": {
    "slideshow": {
     "slide_type": "slide"
    }
   },
   "outputs": [
    {
     "data": {
      "text/html": [
       "<div>\n",
       "<style scoped>\n",
       "    .dataframe tbody tr th:only-of-type {\n",
       "        vertical-align: middle;\n",
       "    }\n",
       "\n",
       "    .dataframe tbody tr th {\n",
       "        vertical-align: top;\n",
       "    }\n",
       "\n",
       "    .dataframe thead th {\n",
       "        text-align: right;\n",
       "    }\n",
       "</style>\n",
       "<table border=\"1\" class=\"dataframe\">\n",
       "  <thead>\n",
       "    <tr style=\"text-align: right;\">\n",
       "      <th>Symbols</th>\n",
       "      <th>2330.TW</th>\n",
       "      <th>1101.TW</th>\n",
       "    </tr>\n",
       "    <tr>\n",
       "      <th>Symbols</th>\n",
       "      <th></th>\n",
       "      <th></th>\n",
       "    </tr>\n",
       "  </thead>\n",
       "  <tbody>\n",
       "    <tr>\n",
       "      <th>2330.TW</th>\n",
       "      <td>0.000487</td>\n",
       "      <td>0.000228</td>\n",
       "    </tr>\n",
       "    <tr>\n",
       "      <th>1101.TW</th>\n",
       "      <td>0.000228</td>\n",
       "      <td>0.000296</td>\n",
       "    </tr>\n",
       "  </tbody>\n",
       "</table>\n",
       "</div>"
      ],
      "text/plain": [
       "Symbols   2330.TW   1101.TW\n",
       "Symbols                    \n",
       "2330.TW  0.000487  0.000228\n",
       "1101.TW  0.000228  0.000296"
      ]
     },
     "execution_count": 9,
     "metadata": {},
     "output_type": "execute_result"
    }
   ],
   "source": [
    "Stock_Returns.cov()"
   ]
  },
  {
   "cell_type": "code",
   "execution_count": 10,
   "metadata": {
    "slideshow": {
     "slide_type": "slide"
    }
   },
   "outputs": [
    {
     "data": {
      "text/plain": [
       "2"
      ]
     },
     "execution_count": 10,
     "metadata": {},
     "output_type": "execute_result"
    }
   ],
   "source": [
    "data = pd.read_excel('Stock_Returns.xlsx')\n",
    "data.head(10)\n",
    "data_set = ['2330.TW','1101.TW']\n",
    "nos=len(data_set)\n",
    "nos"
   ]
  },
  {
   "cell_type": "code",
   "execution_count": 11,
   "metadata": {
    "slideshow": {
     "slide_type": "slide"
    }
   },
   "outputs": [
    {
     "data": {
      "text/html": [
       "<div>\n",
       "<style scoped>\n",
       "    .dataframe tbody tr th:only-of-type {\n",
       "        vertical-align: middle;\n",
       "    }\n",
       "\n",
       "    .dataframe tbody tr th {\n",
       "        vertical-align: top;\n",
       "    }\n",
       "\n",
       "    .dataframe thead th {\n",
       "        text-align: right;\n",
       "    }\n",
       "</style>\n",
       "<table border=\"1\" class=\"dataframe\">\n",
       "  <thead>\n",
       "    <tr style=\"text-align: right;\">\n",
       "      <th></th>\n",
       "      <th>2330.TW</th>\n",
       "      <th>1101.TW</th>\n",
       "    </tr>\n",
       "  </thead>\n",
       "  <tbody>\n",
       "    <tr>\n",
       "      <th>count</th>\n",
       "      <td>138.000000</td>\n",
       "      <td>138.000000</td>\n",
       "    </tr>\n",
       "    <tr>\n",
       "      <th>mean</th>\n",
       "      <td>0.002015</td>\n",
       "      <td>-0.000061</td>\n",
       "    </tr>\n",
       "    <tr>\n",
       "      <th>std</th>\n",
       "      <td>0.022079</td>\n",
       "      <td>0.017199</td>\n",
       "    </tr>\n",
       "    <tr>\n",
       "      <th>min</th>\n",
       "      <td>-0.055556</td>\n",
       "      <td>-0.068966</td>\n",
       "    </tr>\n",
       "    <tr>\n",
       "      <th>25%</th>\n",
       "      <td>-0.010764</td>\n",
       "      <td>-0.005775</td>\n",
       "    </tr>\n",
       "    <tr>\n",
       "      <th>50%</th>\n",
       "      <td>0.002153</td>\n",
       "      <td>0.001191</td>\n",
       "    </tr>\n",
       "    <tr>\n",
       "      <th>75%</th>\n",
       "      <td>0.011986</td>\n",
       "      <td>0.006987</td>\n",
       "    </tr>\n",
       "    <tr>\n",
       "      <th>max</th>\n",
       "      <td>0.099741</td>\n",
       "      <td>0.099702</td>\n",
       "    </tr>\n",
       "  </tbody>\n",
       "</table>\n",
       "</div>"
      ],
      "text/plain": [
       "          2330.TW     1101.TW\n",
       "count  138.000000  138.000000\n",
       "mean     0.002015   -0.000061\n",
       "std      0.022079    0.017199\n",
       "min     -0.055556   -0.068966\n",
       "25%     -0.010764   -0.005775\n",
       "50%      0.002153    0.001191\n",
       "75%      0.011986    0.006987\n",
       "max      0.099741    0.099702"
      ]
     },
     "execution_count": 11,
     "metadata": {},
     "output_type": "execute_result"
    }
   ],
   "source": [
    "n=len(data)\n",
    "data.describe()  ###敘述性統計"
   ]
  },
  {
   "cell_type": "code",
   "execution_count": 15,
   "metadata": {
    "slideshow": {
     "slide_type": "slide"
    }
   },
   "outputs": [
    {
     "data": {
      "text/plain": [
       "array([0.58076654, 0.41923346])"
      ]
     },
     "execution_count": 15,
     "metadata": {},
     "output_type": "execute_result"
    }
   ],
   "source": [
    "#我們先隨機生成一維投資組合權重向量（長度為2，與股票數量相等），投資組合權重向量中的數值必須在0到1之間\n",
    "weights = np.random.random(2)\n",
    "weights /= np.sum(weights)\n",
    "weights"
   ]
  },
  {
   "cell_type": "code",
   "execution_count": 14,
   "metadata": {
    "slideshow": {
     "slide_type": "slide"
    }
   },
   "outputs": [
    {
     "name": "stderr",
     "output_type": "stream",
     "text": [
      "/opt/tljh/user/lib/python3.7/site-packages/ipykernel_launcher.py:1: FutureWarning: DataFrame.mean and DataFrame.median with numeric_only=None will include datetime64 and datetime64tz columns in a future version.\n",
      "  \"\"\"Entry point for launching an IPython kernel.\n",
      "/opt/tljh/user/lib/python3.7/site-packages/ipykernel_launcher.py:2: FutureWarning: DataFrame.mean and DataFrame.median with numeric_only=None will include datetime64 and datetime64tz columns in a future version.\n",
      "  \n",
      "/opt/tljh/user/lib/python3.7/site-packages/ipykernel_launcher.py:3: FutureWarning: DataFrame.mean and DataFrame.median with numeric_only=None will include datetime64 and datetime64tz columns in a future version.\n",
      "  This is separate from the ipykernel package so we can avoid doing imports until\n"
     ]
    },
    {
     "data": {
      "text/plain": [
       "0.16758568626726464"
      ]
     },
     "execution_count": 14,
     "metadata": {},
     "output_type": "execute_result"
    }
   ],
   "source": [
    "np.dot(weights, data.mean())  #投資組合報酬率\n",
    "annual_PortfR=np.dot(weights, data.mean()*n) #投資組合年化報酬率算法1\n",
    "annual_PortfR1=np.sum(data.mean()*n*weights) #投資組合年化報酬率算法2\n",
    "annual_PortfR1"
   ]
  },
  {
   "cell_type": "code",
   "execution_count": 16,
   "metadata": {
    "slideshow": {
     "slide_type": "slide"
    }
   },
   "outputs": [
    {
     "data": {
      "text/plain": [
       "0.04519996385394364"
      ]
     },
     "execution_count": 16,
     "metadata": {},
     "output_type": "execute_result"
    }
   ],
   "source": [
    "# 投資組合變異數\n",
    "np.dot(weights.T, np.dot(data.cov(), weights))\n",
    "# 投資組合年化變異數\n",
    "np.dot(weights.T, np.dot(data.cov()*n, weights))"
   ]
  },
  {
   "cell_type": "code",
   "execution_count": 20,
   "metadata": {
    "slideshow": {
     "slide_type": "slide"
    }
   },
   "outputs": [
    {
     "data": {
      "text/plain": [
       "0.21260283124630217"
      ]
     },
     "execution_count": 20,
     "metadata": {},
     "output_type": "execute_result"
    }
   ],
   "source": [
    "# 投資組合標準差\n",
    "np.sqrt(np.dot(weights, np.dot(data.cov(), weights)))\n",
    "\n",
    "# 投資組合年化標準差\n",
    "np.sqrt(np.dot(weights, np.dot(data.cov()*n, weights)))"
   ]
  },
  {
   "cell_type": "code",
   "execution_count": 22,
   "metadata": {
    "slideshow": {
     "slide_type": "slide"
    }
   },
   "outputs": [
    {
     "name": "stderr",
     "output_type": "stream",
     "text": [
      "/opt/tljh/user/lib/python3.7/site-packages/ipykernel_launcher.py:19: FutureWarning: DataFrame.mean and DataFrame.median with numeric_only=None will include datetime64 and datetime64tz columns in a future version.\n"
     ]
    },
    {
     "data": {
      "image/png": "[encoded data removed]",
      "text/plain": [
       "<Figure size 576x432 with 1 Axes>"
      ]
     },
     "metadata": {
      "needs_background": "light"
     },
     "output_type": "display_data"
    }
   ],
   "source": [
    "# 自動產生100\n",
    "import numpy as np\n",
    "#from numpy import append as app\n",
    "import statsmodels.api as sm #統計計算\n",
    "import scipy.stats as scs #科學運算\n",
    "import matplotlib.pyplot as plt #畫圖\n",
    "\n",
    "\n",
    "%matplotlib inline\n",
    "PortfR = []\n",
    "PortfVar= []\n",
    "PortfSD = []\n",
    "PortfSPR = []\n",
    "Rf = 0.03   #無風險利率設定為0.03\n",
    "\n",
    "for p in range(100):\n",
    "    weights = np.random.random(2)\n",
    "    weights /=np.sum(weights)\n",
    "    port_returns=np.sum(data.mean()*n*weights)\n",
    "    port_variance=np.dot(weights.T, np.dot(data.cov()*n,weights))\n",
    "    port_stddev=np.sqrt(port_variance)\n",
    "    port_sharpe=(port_returns-Rf)/port_stddev\n",
    "    \n",
    "    PortfR.append(port_returns)\n",
    "    PortfVar.append(port_variance)\n",
    "    PortfSD.append(port_stddev)\n",
    "    PortfSPR.append(port_sharpe)\n",
    "    \n",
    "#PortfR\n",
    "#PortfVar\n",
    "#PortfSD\n",
    "#PortfSPR\n",
    "\n",
    "\n",
    "plt.figure(figsize=(8, 6))\n",
    "figure1=plt.scatter(PortfSD, PortfR, c='b', marker='8')\n",
    "plt.grid(True)\n",
    "plt.title(\"Optimal Portfolio\", size=20)\n",
    "plt.xlabel('Expected Volatility')\n",
    "plt.ylabel('Expected Return')\n",
    "\n",
    "\n",
    "plt.show()\n"
   ]
  },
  {
   "cell_type": "code",
   "execution_count": 19,
   "metadata": {
    "scrolled": true,
    "slideshow": {
     "slide_type": "slide"
    }
   },
   "outputs": [
    {
     "data": {
      "text/plain": [
       "     fun: 0.038891083635803674\n",
       "     jac: array([0.07778217, 0.07778217])\n",
       " message: 'Optimization terminated successfully'\n",
       "    nfev: 12\n",
       "     nit: 4\n",
       "    njev: 4\n",
       "  status: 0\n",
       " success: True\n",
       "       x: array([0.20675333, 0.79324667])"
      ]
     },
     "execution_count": 19,
     "metadata": {},
     "output_type": "execute_result"
    }
   ],
   "source": [
    "import numpy as np\n",
    "from scipy import stats\n",
    "from scipy.optimize import minimize \n",
    "def statistics(weights):\n",
    "    weights = np.array(weights)\n",
    "    port_returns=np.sum(data.mean()*n*weights)\n",
    "    port_variance=np.dot(weights.T, np.dot(data.cov()*n,weights))\n",
    "    port_stddev=np.sqrt(port_variance)\n",
    "    port_sharpe=(port_returns-Rf)/port_stddev\n",
    "    return np.array([port_returns, port_stddev, port_sharpe])\n",
    "\n",
    "#定義目標函數\n",
    "def min_variance(weights,sign=1):\n",
    "    return sign*np.dot(weights.T, np.dot(data.cov()*n,weights))\n",
    "\n",
    "\n",
    "#定義限制條件\n",
    "\n",
    "def constraint1(weights, sign=1):\n",
    "        return sign*(np.sum(weights)-1)\n",
    "\n",
    "weights0 = 2*[1./2]\n",
    "cons = ({'type':'eq', 'fun': constraint1}) #把限制集定義成字典\n",
    "bnds = tuple((0,1) for weights in range(2)) \n",
    "optv = minimize(min_variance, weights0, method = 'SLSQP', bounds = bnds, constraints = cons) \n",
    "optv\n",
    "\n",
    "#optv('weights').round(4)"
   ]
  },
  {
   "cell_type": "code",
   "execution_count": null,
   "metadata": {},
   "outputs": [],
   "source": []
  }
 ],
 "metadata": {
  "celltoolbar": "Slideshow",
  "kernelspec": {
   "display_name": "Python 3",
   "language": "python",
   "name": "python3"
  },
  "language_info": {
   "codemirror_mode": {
    "name": "ipython",
    "version": 3
   },
   "file_extension": ".py",
   "mimetype": "text/x-python",
   "name": "python",
   "nbconvert_exporter": "python",
   "pygments_lexer": "ipython3",
   "version": "3.7.8"
  }
 },
 "nbformat": 4,
 "nbformat_minor": 2
}
