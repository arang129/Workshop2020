{
 "cells": [
  {
   "cell_type": "markdown",
   "metadata": {},
   "source": [
    "### **練習1：接龍遊戲**\n",
    "請設計一個接龍遊戲，程式會自動在A玩家與B玩家之間切換，如果其中一位玩家沒有完成接龍及宣告挑戰失敗，程式最後會顯示：「遊戲結束，X玩家獲勝！」\n",
    "- 執行畫面：\n",
    "```Python\n",
    "張三： 胸有成竹\n",
    "李四： 竹報平安\n",
    "張三： 安富尊榮\n",
    "李四： 榮華富貴\n",
    "張三： 貴而賤目\n",
    "李四： 目無餘子\n",
    "張三： 子虛烏有\n",
    "李四： 有目共睹\n",
    "張三： 睹物思人\n",
    "李四： 人中騏驥\n",
    "張三： 驥子龍文\n",
    "李四： 文質彬彬\n",
    "張三： 彬彬有禮\n",
    "李四： 禮賢下士\n",
    "張三： 士飽馬騰\n",
    "李四： 騰雲駕霧\n",
    "張三： 霧裡看花\n",
    "李四： 花言巧語\n",
    "張三： 語重心長\n",
    "李四： 長此以往\n",
    "張三： 往返徒勞\n",
    "李四： 勞而無功\n",
    "張三： 功成不居\n",
    "李四： 居官守法\n",
    "張三： 法外施仁\n",
    "李四： 仁漿義粟\n",
    "張三： 粟紅貫朽\n",
    "李四： 朽木死灰\n",
    "張三： 灰飛煙滅\n",
    "李四： 滅絕人性\n",
    "張三： 性命交關\n",
    "李四： 關門大吉\n",
    "張三： 吉祥止止\n",
    "李四： 止於至善\n",
    "張三： 善賈而沽\n",
    "李四： 沽名釣譽\n",
    "張三： 譽不絕口\n",
    "李四： 口蜜腹劍\n",
    "張三： 劍戟森森\n",
    "李四： 森羅萬象\n",
    "張三： 象箸玉杯\n",
    "李四： 杯弓蛇影\n",
    "張三： 影影綽綽\n",
    "李四： 綽約多姿\n",
    "張三： 姿意妄為\n",
    "李四： 為人作嫁\n",
    "張三： 嫁禍於人\n",
    "李四： 人情冷暖\n",
    "張三： 暖衣飽食\n",
    "李四： 時過境遷\n",
    "遊戲結束，張三獲勝！\n",
    "```"
   ]
  },
  {
   "cell_type": "code",
   "execution_count": null,
   "metadata": {},
   "outputs": [],
   "source": []
  },
  {
   "cell_type": "markdown",
   "metadata": {},
   "source": [
    "### **練習2**\n",
    "1. 請設計一個程式，當使用者輸入員工姓名與薪水後，即顯示：「XXX員工的薪水OOO元」。\n",
    "2. 請設計一個程式，當使用者輸入兩個數a與b後，即顯示：「a+b=O,a-b=X」。\n"
   ]
  },
  {
   "cell_type": "code",
   "execution_count": null,
   "metadata": {},
   "outputs": [],
   "source": []
  },
  {
   "cell_type": "markdown",
   "metadata": {},
   "source": [
    "### **練習3.1：遞迴函式**\n",
    "設計一個程式當使用者輸入正整數n，即得到n階乘的結果，此題請使用遞迴函式寫法。"
   ]
  },
  {
   "cell_type": "code",
   "execution_count": null,
   "metadata": {},
   "outputs": [],
   "source": []
  },
  {
   "cell_type": "markdown",
   "metadata": {},
   "source": [
    "### **練習3.2：貨幣的時間價值**\n",
    "貨幣的時間價值是財務管理最重要的理論依據。請寫出一個函式，使用者傳入利率(i)、期數(n)以及指定的利率因子(PVIF、FVIF、PVIFA、FVIFA)後，會自動幫你計算出各個利率因子的值。\n",
    "各個利率因子的公式：\n",
    "\n",
    "$$\n",
    "\\text{PVIF}\\left( i,n \\right) = \\frac{1}{{(1 + i)}^{n}}\n",
    "$$\n",
    "\n",
    "$$\n",
    "\\text{FVIF}\\left( i,n \\right) = {(1 + i)}^{n}\n",
    "$$\n",
    "\n",
    "$$\n",
    "\\text{PVIFA}\\left( i,n \\right) = \\sum_{t = 1}^{n}\\left( \\frac{1}{1 + i} \\right)^{t} = \\frac{1}{i} - \\frac{1}{i{(1 + i)}^{n}}\n",
    "$$\n",
    "\n",
    "$$\n",
    "\\text{FVIFA}\\left( i,n \\right) = \\sum_{t = 1}^{n}\\left( 1 + i \\right)^{n - t} = \\frac{{(1 + i)}^{n} - 1}{i}\n",
    "$$\n",
    "\n",
    "- 範例：\n",
    "\n",
    "\n",
    "    print(tm(0.01,10,'PVIF'))\n",
    "    Output:0.9052869546929833\n",
    "        \n",
    "    print(tm(0.01,10,'FVIF'))\n",
    "    Output:1.1046221254112045\n",
    "        \n",
    "    print(tm(0.01,10,'PVIFA'))\n",
    "    Output:9.471304530701673\n",
    "    \n",
    "    print(tm(0.01,10,'FVIFA'))\n",
    "    Output:10.462212541120453\n",
    "\n"
   ]
  },
  {
   "cell_type": "code",
   "execution_count": null,
   "metadata": {},
   "outputs": [],
   "source": []
  }
 ],
 "metadata": {
  "kernelspec": {
   "display_name": "Python 3",
   "language": "python",
   "name": "python3"
  },
  "language_info": {
   "codemirror_mode": {
    "name": "ipython",
    "version": 3
   },
   "file_extension": ".py",
   "mimetype": "text/x-python",
   "name": "python",
   "nbconvert_exporter": "python",
   "pygments_lexer": "ipython3",
   "version": "3.7.6"
  }
 },
 "nbformat": 4,
 "nbformat_minor": 4
}
