{
 "cells": [
  {
   "cell_type": "markdown",
   "metadata": {
    "slideshow": {
     "slide_type": "slide"
    }
   },
   "source": [
    "<p><img alt=\"Colaboratory logo\" height=\"45px\" src=https://www.yuntech.edu.tw/images/mainmenu/about/yuntech_logo.jpg width=\"28\" align=\"left\" hspace=\"10px\" vspace=\"27px\" style=\"margin: 27px 10px\"></p>\n",
    "<h1><font color=\"red\">    金融數據</font>與<font color=\"green\">程式設計</font></h1>\n",
    "\n",
    "<h4 style=\"font-weight: bold\"><font color=\"blue\">作者：劉文讓</font></h4>\n",
    "<a id='Front'></a>\n",
    "Python是一種物件導向的電腦程式語言，在2017年 IEEE 程式語言調查、Kaggle 使用者調查都榮登第一名，為資料科學家最喜愛的程式語言。\n",
    "\n",
    "Pandas是Python的一個專門用來做數據分析的套件，也是目前全世界數據分析師最喜歡使用的套件之一。\n",
    "\n",
    "`參考網址`：\n",
    "[104Pandas相關職缺](https://www.104.com.tw/jobs/search/?ro=0&kwop=7&keyword=pandas&jobcatExpansionType=1&order=15&asc=0&page=3&mode=s)\n",
    "[美國Python資料分析師平均年薪](https://www.ziprecruiter.com/Salaries/Python-Data-Scientist-Salary)\n"
   ]
  },
  {
   "cell_type": "markdown",
   "metadata": {
    "slideshow": {
     "slide_type": "subslide"
    }
   },
   "source": [
    "------\n",
    "<a id='HOME'></a>\n",
    "### 課程目錄：\n",
    "\n",
    "* [0 認識Jupyter Notebook編輯器](#c0)\n",
    "* [1 Pandas的資料類型](#c1)\n",
    "* [2 索引值的運用與資料篩選](#c2)\n",
    "* [3 下載真正的股票資料](#c3)\n",
    "* [4 基本資料分析](#c4)\n",
    "* [5 資料視覺化](#c5)\n",
    "* [補充：操作Excel的讀取與寫入方法](#appendix)"
   ]
  },
  {
   "cell_type": "markdown",
   "metadata": {
    "slideshow": {
     "slide_type": "slide"
    }
   },
   "source": [
    "------\n",
    "<a id='c0'></a>\n",
    "## 0 認識Jupyter Notebook編輯器\n",
    "[回目錄](#HOME)\n",
    "\n",
    "- **執行程式：**\n",
    "按工具列鈕`►|Run`或按 Shift-Enter 鍵執行完程式後會將游標移到下一個 Cell ，如果下一個 Cell 不存在，即會新增一個 Cell 再移到其中。按 Ctrl-Enter 鍵執行完程式後則游標會停留在原有 Cell。\n",
    "\n",
    "![執行](https://problemsolvingwithpython.com/02-Jupyter-Notebooks/images/run_cell.png)"
   ]
  },
  {
   "cell_type": "markdown",
   "metadata": {
    "slideshow": {
     "slide_type": "slide"
    }
   },
   "source": [
    " - **匯入套件：**首先我們要先匯入今天會用到的套件，例如：`Pandas`、`Numpy`、`datetime`、`Pandas_datareader`、`Matplotlib`、`Pyecharts`。"
   ]
  },
  {
   "cell_type": "code",
   "execution_count": 1,
   "metadata": {
    "slideshow": {
     "slide_type": "slide"
    }
   },
   "outputs": [
    {
     "name": "stderr",
     "output_type": "stream",
     "text": [
      "C:\\Users\\AsusNotebook\\anaconda3\\lib\\site-packages\\pandas_datareader\\compat\\__init__.py:7: FutureWarning: pandas.util.testing is deprecated. Use the functions in the public API at pandas.testing instead.\n",
      "  from pandas.util.testing import assert_frame_equal\n"
     ]
    }
   ],
   "source": [
    "import pandas as pd\n",
    "import numpy as np\n",
    "import datetime\n",
    "import pandas_datareader.data as web\n",
    "import matplotlib.pyplot as plt\n",
    "from pyecharts import options as opts   \n",
    "from pyecharts.charts import Kline"
   ]
  },
  {
   "cell_type": "markdown",
   "metadata": {
    "slideshow": {
     "slide_type": "slide"
    }
   },
   "source": [
    "------\n",
    "<a id='c1'></a>\n",
    "## 1 Pandas的資料類型\n",
    "[回目錄](#HOME)\n",
    "\n",
    "DataFrame(資料框架)與Series(序列)"
   ]
  },
  {
   "cell_type": "markdown",
   "metadata": {
    "slideshow": {
     "slide_type": "slide"
    }
   },
   "source": [
    "### Series\n",
    "一維陣列資料"
   ]
  },
  {
   "cell_type": "code",
   "execution_count": 2,
   "metadata": {
    "slideshow": {
     "slide_type": "slide"
    }
   },
   "outputs": [
    {
     "name": "stdout",
     "output_type": "stream",
     "text": [
      "0    1\n",
      "1    3\n",
      "2   -5\n",
      "3    6\n",
      "4    8\n",
      "dtype: int64\n"
     ]
    }
   ],
   "source": [
    "s = pd.Series([1,3,-5,6,8])\n",
    "print (s)"
   ]
  },
  {
   "cell_type": "markdown",
   "metadata": {
    "slideshow": {
     "slide_type": "slide"
    }
   },
   "source": [
    "### DataFrame\n",
    "與Excel表格一樣，是二維的資料，\n",
    "以方法index表示列名稱，方法column表示列名稱\n",
    "\n",
    "- 接著我們用矩陣資料建立DataFrame變數"
   ]
  },
  {
   "cell_type": "code",
   "execution_count": 3,
   "metadata": {
    "slideshow": {
     "slide_type": "slide"
    }
   },
   "outputs": [
    {
     "data": {
      "text/plain": [
       "array([[64, 67, 84, 87],\n",
       "       [87, 29, 41, 56],\n",
       "       [90, 32, 78, 85],\n",
       "       [59, 66, 57, 45],\n",
       "       [97, 92, 29, 40],\n",
       "       [89, 99, 67, 84]])"
      ]
     },
     "execution_count": 3,
     "metadata": {},
     "output_type": "execute_result"
    }
   ],
   "source": [
    "# 亂數產生學期成績資料 (需匯入Numpy套件)：\n",
    "# 產生6*4的陣列，最高為100，最低為20\n",
    "np.random.seed(0)\n",
    "scores=np.random.randint(low=20,high=100,size=(6,4))\n",
    "scores"
   ]
  },
  {
   "cell_type": "code",
   "execution_count": 4,
   "metadata": {
    "slideshow": {
     "slide_type": "slide"
    }
   },
   "outputs": [
    {
     "data": {
      "text/html": [
       "<div>\n",
       "<style scoped>\n",
       "    .dataframe tbody tr th:only-of-type {\n",
       "        vertical-align: middle;\n",
       "    }\n",
       "\n",
       "    .dataframe tbody tr th {\n",
       "        vertical-align: top;\n",
       "    }\n",
       "\n",
       "    .dataframe thead th {\n",
       "        text-align: right;\n",
       "    }\n",
       "</style>\n",
       "<table border=\"1\" class=\"dataframe\">\n",
       "  <thead>\n",
       "    <tr style=\"text-align: right;\">\n",
       "      <th></th>\n",
       "      <th>財務管理</th>\n",
       "      <th>投資學</th>\n",
       "      <th>會計學</th>\n",
       "      <th>經濟學</th>\n",
       "    </tr>\n",
       "  </thead>\n",
       "  <tbody>\n",
       "    <tr>\n",
       "      <th>張無忌</th>\n",
       "      <td>64</td>\n",
       "      <td>67</td>\n",
       "      <td>84</td>\n",
       "      <td>87</td>\n",
       "    </tr>\n",
       "    <tr>\n",
       "      <th>趙敏</th>\n",
       "      <td>87</td>\n",
       "      <td>29</td>\n",
       "      <td>41</td>\n",
       "      <td>56</td>\n",
       "    </tr>\n",
       "    <tr>\n",
       "      <th>程靈素</th>\n",
       "      <td>90</td>\n",
       "      <td>32</td>\n",
       "      <td>78</td>\n",
       "      <td>85</td>\n",
       "    </tr>\n",
       "    <tr>\n",
       "      <th>郭靖</th>\n",
       "      <td>59</td>\n",
       "      <td>66</td>\n",
       "      <td>57</td>\n",
       "      <td>45</td>\n",
       "    </tr>\n",
       "    <tr>\n",
       "      <th>令狐沖</th>\n",
       "      <td>97</td>\n",
       "      <td>92</td>\n",
       "      <td>29</td>\n",
       "      <td>40</td>\n",
       "    </tr>\n",
       "    <tr>\n",
       "      <th>黃蓉</th>\n",
       "      <td>89</td>\n",
       "      <td>99</td>\n",
       "      <td>67</td>\n",
       "      <td>84</td>\n",
       "    </tr>\n",
       "  </tbody>\n",
       "</table>\n",
       "</div>"
      ],
      "text/plain": [
       "     財務管理  投資學  會計學  經濟學\n",
       "張無忌    64   67   84   87\n",
       "趙敏     87   29   41   56\n",
       "程靈素    90   32   78   85\n",
       "郭靖     59   66   57   45\n",
       "令狐沖    97   92   29   40\n",
       "黃蓉     89   99   67   84"
      ]
     },
     "execution_count": 4,
     "metadata": {},
     "output_type": "execute_result"
    }
   ],
   "source": [
    "# 建立dataframe資料\n",
    "df = pd.DataFrame(scores, index=['張無忌','趙敏','程靈素','郭靖','令狐沖','黃蓉'], \\\n",
    "                  columns=['財務管理','投資學','會計學','經濟學'])\n",
    "df"
   ]
  },
  {
   "cell_type": "markdown",
   "metadata": {
    "slideshow": {
     "slide_type": "slide"
    }
   },
   "source": [
    "------\n",
    "<a id='c2'></a>\n",
    "## **2 索引值的運用與資料篩選**\n",
    "[回目錄](#HOME)"
   ]
  },
  {
   "cell_type": "markdown",
   "metadata": {
    "slideshow": {
     "slide_type": "slide"
    }
   },
   "source": [
    "- 取出其中一欄資料：\n",
    "\n",
    "例如：查詢全班學生的投資學成績"
   ]
  },
  {
   "cell_type": "code",
   "execution_count": 5,
   "metadata": {
    "slideshow": {
     "slide_type": "slide"
    }
   },
   "outputs": [
    {
     "data": {
      "text/plain": [
       "張無忌    67\n",
       "趙敏     29\n",
       "程靈素    32\n",
       "郭靖     66\n",
       "令狐沖    92\n",
       "黃蓉     99\n",
       "Name: 投資學, dtype: int32"
      ]
     },
     "execution_count": 5,
     "metadata": {},
     "output_type": "execute_result"
    }
   ],
   "source": [
    "df['投資學']"
   ]
  },
  {
   "cell_type": "markdown",
   "metadata": {
    "slideshow": {
     "slide_type": "slide"
    }
   },
   "source": [
    "### `loc` 與 `iloc`定位方法：最推薦的取值方法\n",
    "\n",
    "``````Python\n",
    "df.loc[列的範圍(自訂索引), [行的範圍(自訂索引)]]\n",
    "df.iloc[列的範圍(內建索引), [行的範圍(內建索引)]]\n",
    "\n",
    "注意：索引值由0開始，0表示該列或該行的第1個元素\n",
    "``````"
   ]
  },
  {
   "cell_type": "markdown",
   "metadata": {
    "slideshow": {
     "slide_type": "slide"
    }
   },
   "source": [
    "`例如`：查詢某一科多位學生的成績。"
   ]
  },
  {
   "cell_type": "code",
   "execution_count": 6,
   "metadata": {
    "slideshow": {
     "slide_type": "slide"
    }
   },
   "outputs": [
    {
     "data": {
      "text/html": [
       "<div>\n",
       "<style scoped>\n",
       "    .dataframe tbody tr th:only-of-type {\n",
       "        vertical-align: middle;\n",
       "    }\n",
       "\n",
       "    .dataframe tbody tr th {\n",
       "        vertical-align: top;\n",
       "    }\n",
       "\n",
       "    .dataframe thead th {\n",
       "        text-align: right;\n",
       "    }\n",
       "</style>\n",
       "<table border=\"1\" class=\"dataframe\">\n",
       "  <thead>\n",
       "    <tr style=\"text-align: right;\">\n",
       "      <th></th>\n",
       "      <th>會計學</th>\n",
       "    </tr>\n",
       "  </thead>\n",
       "  <tbody>\n",
       "    <tr>\n",
       "      <th>郭靖</th>\n",
       "      <td>57</td>\n",
       "    </tr>\n",
       "    <tr>\n",
       "      <th>令狐沖</th>\n",
       "      <td>29</td>\n",
       "    </tr>\n",
       "    <tr>\n",
       "      <th>黃蓉</th>\n",
       "      <td>67</td>\n",
       "    </tr>\n",
       "  </tbody>\n",
       "</table>\n",
       "</div>"
      ],
      "text/plain": [
       "     會計學\n",
       "郭靖    57\n",
       "令狐沖   29\n",
       "黃蓉    67"
      ]
     },
     "execution_count": 6,
     "metadata": {},
     "output_type": "execute_result"
    }
   ],
   "source": [
    "df.loc[\"郭靖\":\"黃蓉\",[\"會計學\"]]"
   ]
  },
  {
   "cell_type": "code",
   "execution_count": 7,
   "metadata": {
    "slideshow": {
     "slide_type": "slide"
    }
   },
   "outputs": [
    {
     "data": {
      "text/plain": [
       "郭靖     57\n",
       "令狐沖    29\n",
       "黃蓉     67\n",
       "Name: 會計學, dtype: int32"
      ]
     },
     "execution_count": 7,
     "metadata": {},
     "output_type": "execute_result"
    }
   ],
   "source": [
    "df.iloc[3:6,2]"
   ]
  },
  {
   "cell_type": "markdown",
   "metadata": {
    "slideshow": {
     "slide_type": "slide"
    }
   },
   "source": [
    "`例如`：查詢會計學與經濟學多位學生的成績。"
   ]
  },
  {
   "cell_type": "code",
   "execution_count": 8,
   "metadata": {
    "slideshow": {
     "slide_type": "slide"
    }
   },
   "outputs": [
    {
     "data": {
      "text/plain": [
       "會計學    41\n",
       "經濟學    56\n",
       "Name: 趙敏, dtype: int32"
      ]
     },
     "execution_count": 8,
     "metadata": {},
     "output_type": "execute_result"
    }
   ],
   "source": [
    "df.loc['趙敏',[\"會計學\",\"經濟學\"]]"
   ]
  },
  {
   "cell_type": "code",
   "execution_count": 9,
   "metadata": {
    "slideshow": {
     "slide_type": "slide"
    }
   },
   "outputs": [
    {
     "data": {
      "text/plain": [
       "會計學    41\n",
       "經濟學    56\n",
       "Name: 趙敏, dtype: int32"
      ]
     },
     "execution_count": 9,
     "metadata": {},
     "output_type": "execute_result"
    }
   ],
   "source": [
    "df.iloc[1,[2,3]]"
   ]
  },
  {
   "cell_type": "markdown",
   "metadata": {
    "slideshow": {
     "slide_type": "slide"
    }
   },
   "source": [
    "`例如`：查詢座號不連續(趙敏與令狐沖)的同學他們的會計學與經濟學成績。\n",
    "\n",
    "**<font color=\"red\">底下程式是無法執行的：</font>**\n",
    "``````Python\n",
    "df.loc[['趙敏','令狐沖'],[\"會計學\",\"經濟學\"]]\n",
    "``````\n",
    "\n",
    "**<font color=\"blue\">底下程式是可以執行的：</font>**\n",
    "``````Python\n",
    "df.loc[['趙敏','令狐沖'],:]\n",
    "``````"
   ]
  },
  {
   "cell_type": "markdown",
   "metadata": {
    "slideshow": {
     "slide_type": "slide"
    }
   },
   "source": [
    "`例如`：查詢財務管理及格的同學，並列出他們的會計學與經濟學成績。"
   ]
  },
  {
   "cell_type": "code",
   "execution_count": 10,
   "metadata": {
    "slideshow": {
     "slide_type": "slide"
    }
   },
   "outputs": [
    {
     "data": {
      "text/html": [
       "<div>\n",
       "<style scoped>\n",
       "    .dataframe tbody tr th:only-of-type {\n",
       "        vertical-align: middle;\n",
       "    }\n",
       "\n",
       "    .dataframe tbody tr th {\n",
       "        vertical-align: top;\n",
       "    }\n",
       "\n",
       "    .dataframe thead th {\n",
       "        text-align: right;\n",
       "    }\n",
       "</style>\n",
       "<table border=\"1\" class=\"dataframe\">\n",
       "  <thead>\n",
       "    <tr style=\"text-align: right;\">\n",
       "      <th></th>\n",
       "      <th>會計學</th>\n",
       "      <th>經濟學</th>\n",
       "    </tr>\n",
       "  </thead>\n",
       "  <tbody>\n",
       "    <tr>\n",
       "      <th>張無忌</th>\n",
       "      <td>84</td>\n",
       "      <td>87</td>\n",
       "    </tr>\n",
       "    <tr>\n",
       "      <th>趙敏</th>\n",
       "      <td>41</td>\n",
       "      <td>56</td>\n",
       "    </tr>\n",
       "    <tr>\n",
       "      <th>程靈素</th>\n",
       "      <td>78</td>\n",
       "      <td>85</td>\n",
       "    </tr>\n",
       "    <tr>\n",
       "      <th>令狐沖</th>\n",
       "      <td>29</td>\n",
       "      <td>40</td>\n",
       "    </tr>\n",
       "    <tr>\n",
       "      <th>黃蓉</th>\n",
       "      <td>67</td>\n",
       "      <td>84</td>\n",
       "    </tr>\n",
       "  </tbody>\n",
       "</table>\n",
       "</div>"
      ],
      "text/plain": [
       "     會計學  經濟學\n",
       "張無忌   84   87\n",
       "趙敏    41   56\n",
       "程靈素   78   85\n",
       "令狐沖   29   40\n",
       "黃蓉    67   84"
      ]
     },
     "execution_count": 10,
     "metadata": {},
     "output_type": "execute_result"
    }
   ],
   "source": [
    "df.loc[df.財務管理>=60,[\"會計學\",\"經濟學\"]]"
   ]
  },
  {
   "cell_type": "markdown",
   "metadata": {
    "slideshow": {
     "slide_type": "slide"
    }
   },
   "source": [
    "------\n",
    "<a id='c3'></a>\n",
    "## **3 下載真正的股票資料**\n",
    "[回目錄](#HOME)\n",
    "\n",
    "資料來源：[Yahoo Finance](https://finance.yahoo.com/)"
   ]
  },
  {
   "cell_type": "markdown",
   "metadata": {
    "slideshow": {
     "slide_type": "slide"
    }
   },
   "source": [
    "**1. 手動匯入(較累較不推薦)：**\n",
    "\n",
    "    1. 輸入股票代碼 (例如：^TWII, 2330.tw, ^GSPC, AAPL, IBM)\n",
    "    2. 選擇時間範圍\n",
    "    3. 下載(`Download`)檔案(`.csv`)\n",
    "    4. 資料存放在同一資料夾\n",
    "    5. 匯入資料 (`pd.read_csv(\"檔案名稱\")`)"
   ]
  },
  {
   "cell_type": "markdown",
   "metadata": {
    "slideshow": {
     "slide_type": "slide"
    }
   },
   "source": [
    "**2. 使用pandas-datareader套件(方便且容易)：**\n",
    "\n",
    "    1. 安裝pandas-datareader套件：!pip install pandas-datareader\n",
    "    2. 輸入股票代碼 (例如：^TWII, ^GSPC, AAPL, IBM)\n",
    "    3. 選擇時間範圍\n",
    "    4. 匯入資料，總共會有底下欄位：Open, High, Low, Close, Adj Close,Volume\n",
    "    5. 自動使用日期格式當作索引值"
   ]
  },
  {
   "cell_type": "code",
   "execution_count": 11,
   "metadata": {
    "slideshow": {
     "slide_type": "slide"
    }
   },
   "outputs": [
    {
     "data": {
      "text/html": [
       "<div>\n",
       "<style scoped>\n",
       "    .dataframe tbody tr th:only-of-type {\n",
       "        vertical-align: middle;\n",
       "    }\n",
       "\n",
       "    .dataframe tbody tr th {\n",
       "        vertical-align: top;\n",
       "    }\n",
       "\n",
       "    .dataframe thead th {\n",
       "        text-align: right;\n",
       "    }\n",
       "</style>\n",
       "<table border=\"1\" class=\"dataframe\">\n",
       "  <thead>\n",
       "    <tr style=\"text-align: right;\">\n",
       "      <th></th>\n",
       "      <th>High</th>\n",
       "      <th>Low</th>\n",
       "      <th>Open</th>\n",
       "      <th>Close</th>\n",
       "      <th>Volume</th>\n",
       "      <th>Adj Close</th>\n",
       "    </tr>\n",
       "    <tr>\n",
       "      <th>Date</th>\n",
       "      <th></th>\n",
       "      <th></th>\n",
       "      <th></th>\n",
       "      <th></th>\n",
       "      <th></th>\n",
       "      <th></th>\n",
       "    </tr>\n",
       "  </thead>\n",
       "  <tbody>\n",
       "    <tr>\n",
       "      <th>2020-01-02</th>\n",
       "      <td>339.0</td>\n",
       "      <td>332.5</td>\n",
       "      <td>332.5</td>\n",
       "      <td>339.0</td>\n",
       "      <td>31754120.0</td>\n",
       "      <td>333.075775</td>\n",
       "    </tr>\n",
       "    <tr>\n",
       "      <th>2020-01-03</th>\n",
       "      <td>345.0</td>\n",
       "      <td>335.5</td>\n",
       "      <td>344.0</td>\n",
       "      <td>339.5</td>\n",
       "      <td>41811268.0</td>\n",
       "      <td>333.567047</td>\n",
       "    </tr>\n",
       "    <tr>\n",
       "      <th>2020-01-06</th>\n",
       "      <td>334.5</td>\n",
       "      <td>332.0</td>\n",
       "      <td>333.0</td>\n",
       "      <td>332.0</td>\n",
       "      <td>45343057.0</td>\n",
       "      <td>326.198120</td>\n",
       "    </tr>\n",
       "    <tr>\n",
       "      <th>2020-01-07</th>\n",
       "      <td>333.0</td>\n",
       "      <td>326.5</td>\n",
       "      <td>332.5</td>\n",
       "      <td>329.5</td>\n",
       "      <td>50879181.0</td>\n",
       "      <td>323.741791</td>\n",
       "    </tr>\n",
       "    <tr>\n",
       "      <th>2020-01-08</th>\n",
       "      <td>333.0</td>\n",
       "      <td>325.0</td>\n",
       "      <td>325.0</td>\n",
       "      <td>329.5</td>\n",
       "      <td>37567748.0</td>\n",
       "      <td>323.741791</td>\n",
       "    </tr>\n",
       "  </tbody>\n",
       "</table>\n",
       "</div>"
      ],
      "text/plain": [
       "             High    Low   Open  Close      Volume   Adj Close\n",
       "Date                                                          \n",
       "2020-01-02  339.0  332.5  332.5  339.0  31754120.0  333.075775\n",
       "2020-01-03  345.0  335.5  344.0  339.5  41811268.0  333.567047\n",
       "2020-01-06  334.5  332.0  333.0  332.0  45343057.0  326.198120\n",
       "2020-01-07  333.0  326.5  332.5  329.5  50879181.0  323.741791\n",
       "2020-01-08  333.0  325.0  325.0  329.5  37567748.0  323.741791"
      ]
     },
     "execution_count": 11,
     "metadata": {},
     "output_type": "execute_result"
    }
   ],
   "source": [
    "開始日=datetime.datetime(2020,1,1)\n",
    "股票代碼='2330.tw'\n",
    "結束日=datetime.datetime(2020,7,31)\n",
    "s2330=web.DataReader(股票代碼,'yahoo',開始日,結束日)\n",
    "s2330.head()"
   ]
  },
  {
   "cell_type": "markdown",
   "metadata": {
    "slideshow": {
     "slide_type": "slide"
    }
   },
   "source": [
    "### **練習 1：資料擷取**\n",
    "1. 請下載台泥(1101)股價資料，資料期間為2020年1月1日至2020年7月31日。\n",
    "2. 請你列出2020年3月19日及2020年7月31日當天的收盤價(Close)與交易量(Volume)。\n",
    "3. 請你列出台泥收盤價超過41元的資料。"
   ]
  },
  {
   "cell_type": "markdown",
   "metadata": {
    "slideshow": {
     "slide_type": "slide"
    }
   },
   "source": [
    "------\n",
    "<a id='c4'></a>\n",
    "## **4 基本資料分析**\n",
    "[回目錄](#HOME)\n"
   ]
  },
  {
   "cell_type": "markdown",
   "metadata": {
    "slideshow": {
     "slide_type": "slide"
    }
   },
   "source": [
    "### 基本敘述統計量：使用DataFrame變數的方法\n",
    "\n",
    "可針對行或列資料計算敘述統計量\n",
    "- 平均數 `mean`\n",
    "- 標準差 `std`\n",
    "- 最大值 `max`\n",
    "- 最小值 `min`\n",
    "- 以上所有方法的結果，以及中位數(median)、第一四分位數、第三四分位數 `describe`"
   ]
  },
  {
   "cell_type": "code",
   "execution_count": 12,
   "metadata": {
    "slideshow": {
     "slide_type": "slide"
    }
   },
   "outputs": [
    {
     "data": {
      "text/html": [
       "<div>\n",
       "<style scoped>\n",
       "    .dataframe tbody tr th:only-of-type {\n",
       "        vertical-align: middle;\n",
       "    }\n",
       "\n",
       "    .dataframe tbody tr th {\n",
       "        vertical-align: top;\n",
       "    }\n",
       "\n",
       "    .dataframe thead th {\n",
       "        text-align: right;\n",
       "    }\n",
       "</style>\n",
       "<table border=\"1\" class=\"dataframe\">\n",
       "  <thead>\n",
       "    <tr style=\"text-align: right;\">\n",
       "      <th></th>\n",
       "      <th>High</th>\n",
       "      <th>Low</th>\n",
       "      <th>Open</th>\n",
       "      <th>Close</th>\n",
       "      <th>Volume</th>\n",
       "      <th>Adj Close</th>\n",
       "    </tr>\n",
       "  </thead>\n",
       "  <tbody>\n",
       "    <tr>\n",
       "      <th>count</th>\n",
       "      <td>139.000000</td>\n",
       "      <td>139.000000</td>\n",
       "      <td>139.000000</td>\n",
       "      <td>139.000000</td>\n",
       "      <td>1.390000e+02</td>\n",
       "      <td>139.000000</td>\n",
       "    </tr>\n",
       "    <tr>\n",
       "      <th>mean</th>\n",
       "      <td>319.517986</td>\n",
       "      <td>313.629496</td>\n",
       "      <td>316.892086</td>\n",
       "      <td>316.446043</td>\n",
       "      <td>5.256633e+07</td>\n",
       "      <td>313.510699</td>\n",
       "    </tr>\n",
       "    <tr>\n",
       "      <th>std</th>\n",
       "      <td>35.205320</td>\n",
       "      <td>34.019034</td>\n",
       "      <td>35.013857</td>\n",
       "      <td>34.280371</td>\n",
       "      <td>2.849289e+07</td>\n",
       "      <td>34.709247</td>\n",
       "    </tr>\n",
       "    <tr>\n",
       "      <th>min</th>\n",
       "      <td>253.000000</td>\n",
       "      <td>235.500000</td>\n",
       "      <td>252.000000</td>\n",
       "      <td>248.000000</td>\n",
       "      <td>1.593708e+07</td>\n",
       "      <td>246.031738</td>\n",
       "    </tr>\n",
       "    <tr>\n",
       "      <th>25%</th>\n",
       "      <td>297.000000</td>\n",
       "      <td>293.250000</td>\n",
       "      <td>294.500000</td>\n",
       "      <td>295.000000</td>\n",
       "      <td>3.427821e+07</td>\n",
       "      <td>292.658722</td>\n",
       "    </tr>\n",
       "    <tr>\n",
       "      <th>50%</th>\n",
       "      <td>317.000000</td>\n",
       "      <td>312.500000</td>\n",
       "      <td>315.000000</td>\n",
       "      <td>315.000000</td>\n",
       "      <td>4.599292e+07</td>\n",
       "      <td>312.000000</td>\n",
       "    </tr>\n",
       "    <tr>\n",
       "      <th>75%</th>\n",
       "      <td>333.750000</td>\n",
       "      <td>330.000000</td>\n",
       "      <td>332.000000</td>\n",
       "      <td>331.750000</td>\n",
       "      <td>6.107652e+07</td>\n",
       "      <td>326.443741</td>\n",
       "    </tr>\n",
       "    <tr>\n",
       "      <th>max</th>\n",
       "      <td>466.500000</td>\n",
       "      <td>428.500000</td>\n",
       "      <td>464.000000</td>\n",
       "      <td>435.000000</td>\n",
       "      <td>1.663077e+08</td>\n",
       "      <td>435.000000</td>\n",
       "    </tr>\n",
       "  </tbody>\n",
       "</table>\n",
       "</div>"
      ],
      "text/plain": [
       "             High         Low        Open       Close        Volume  \\\n",
       "count  139.000000  139.000000  139.000000  139.000000  1.390000e+02   \n",
       "mean   319.517986  313.629496  316.892086  316.446043  5.256633e+07   \n",
       "std     35.205320   34.019034   35.013857   34.280371  2.849289e+07   \n",
       "min    253.000000  235.500000  252.000000  248.000000  1.593708e+07   \n",
       "25%    297.000000  293.250000  294.500000  295.000000  3.427821e+07   \n",
       "50%    317.000000  312.500000  315.000000  315.000000  4.599292e+07   \n",
       "75%    333.750000  330.000000  332.000000  331.750000  6.107652e+07   \n",
       "max    466.500000  428.500000  464.000000  435.000000  1.663077e+08   \n",
       "\n",
       "        Adj Close  \n",
       "count  139.000000  \n",
       "mean   313.510699  \n",
       "std     34.709247  \n",
       "min    246.031738  \n",
       "25%    292.658722  \n",
       "50%    312.000000  \n",
       "75%    326.443741  \n",
       "max    435.000000  "
      ]
     },
     "execution_count": 12,
     "metadata": {},
     "output_type": "execute_result"
    }
   ],
   "source": [
    "# 台積電股價的敘述統計量\n",
    "s2330.describe()"
   ]
  },
  {
   "cell_type": "markdown",
   "metadata": {
    "slideshow": {
     "slide_type": "slide"
    }
   },
   "source": [
    "- mean(axis)：平均值\n",
    "    - `axis=0`：為預設值，針對同一行(欄)內所有不同列的元素去做運算。\n",
    "    - `axis=1`：針對同一列內所有不同行的元素去做運算。\n",
    "- std、max、min、median的用法和mean相同"
   ]
  },
  {
   "cell_type": "code",
   "execution_count": 13,
   "metadata": {},
   "outputs": [
    {
     "data": {
      "text/plain": [
       "財務管理    81.000000\n",
       "投資學     64.166667\n",
       "會計學     59.333333\n",
       "經濟學     66.166667\n",
       "dtype: float64"
      ]
     },
     "execution_count": 13,
     "metadata": {},
     "output_type": "execute_result"
    }
   ],
   "source": [
    "# 各科的平均值\n",
    "df.mean() #或 df.mean(0)"
   ]
  },
  {
   "cell_type": "code",
   "execution_count": 14,
   "metadata": {
    "slideshow": {
     "slide_type": "slide"
    }
   },
   "outputs": [
    {
     "data": {
      "text/plain": [
       "張無忌    75.50\n",
       "趙敏     53.25\n",
       "程靈素    71.25\n",
       "郭靖     56.75\n",
       "令狐沖    64.50\n",
       "黃蓉     84.75\n",
       "dtype: float64"
      ]
     },
     "execution_count": 14,
     "metadata": {},
     "output_type": "execute_result"
    }
   ],
   "source": [
    "# 每個學生的平均成績\n",
    "df.mean(1)"
   ]
  },
  {
   "cell_type": "markdown",
   "metadata": {
    "slideshow": {
     "slide_type": "slide"
    }
   },
   "source": [
    "### 相關係數 (`corr`)\n",
    "- `data` 資料框架變數\n",
    "- `data.corr()` 相關係數矩陣\n",
    "- `data.欄位名稱1.corr(data.欄位名稱2)` 指定兩個變數的相關係數"
   ]
  },
  {
   "cell_type": "code",
   "execution_count": 15,
   "metadata": {
    "slideshow": {
     "slide_type": "slide"
    }
   },
   "outputs": [
    {
     "data": {
      "text/html": [
       "<div>\n",
       "<style scoped>\n",
       "    .dataframe tbody tr th:only-of-type {\n",
       "        vertical-align: middle;\n",
       "    }\n",
       "\n",
       "    .dataframe tbody tr th {\n",
       "        vertical-align: top;\n",
       "    }\n",
       "\n",
       "    .dataframe thead th {\n",
       "        text-align: right;\n",
       "    }\n",
       "</style>\n",
       "<table border=\"1\" class=\"dataframe\">\n",
       "  <thead>\n",
       "    <tr style=\"text-align: right;\">\n",
       "      <th></th>\n",
       "      <th>財務管理</th>\n",
       "      <th>投資學</th>\n",
       "      <th>會計學</th>\n",
       "      <th>經濟學</th>\n",
       "    </tr>\n",
       "  </thead>\n",
       "  <tbody>\n",
       "    <tr>\n",
       "      <th>財務管理</th>\n",
       "      <td>1.000000</td>\n",
       "      <td>0.059386</td>\n",
       "      <td>-0.442171</td>\n",
       "      <td>-0.033260</td>\n",
       "    </tr>\n",
       "    <tr>\n",
       "      <th>投資學</th>\n",
       "      <td>0.059386</td>\n",
       "      <td>1.000000</td>\n",
       "      <td>-0.149850</td>\n",
       "      <td>-0.105958</td>\n",
       "    </tr>\n",
       "    <tr>\n",
       "      <th>會計學</th>\n",
       "      <td>-0.442171</td>\n",
       "      <td>-0.149850</td>\n",
       "      <td>1.000000</td>\n",
       "      <td>0.879566</td>\n",
       "    </tr>\n",
       "    <tr>\n",
       "      <th>經濟學</th>\n",
       "      <td>-0.033260</td>\n",
       "      <td>-0.105958</td>\n",
       "      <td>0.879566</td>\n",
       "      <td>1.000000</td>\n",
       "    </tr>\n",
       "  </tbody>\n",
       "</table>\n",
       "</div>"
      ],
      "text/plain": [
       "          財務管理       投資學       會計學       經濟學\n",
       "財務管理  1.000000  0.059386 -0.442171 -0.033260\n",
       "投資學   0.059386  1.000000 -0.149850 -0.105958\n",
       "會計學  -0.442171 -0.149850  1.000000  0.879566\n",
       "經濟學  -0.033260 -0.105958  0.879566  1.000000"
      ]
     },
     "execution_count": 15,
     "metadata": {},
     "output_type": "execute_result"
    }
   ],
   "source": [
    "df.corr()"
   ]
  },
  {
   "cell_type": "code",
   "execution_count": 16,
   "metadata": {
    "slideshow": {
     "slide_type": "slide"
    }
   },
   "outputs": [
    {
     "data": {
      "text/plain": [
       "0.05938609538380586"
      ]
     },
     "execution_count": 16,
     "metadata": {},
     "output_type": "execute_result"
    }
   ],
   "source": [
    "df['財務管理'].corr(df['投資學'])"
   ]
  },
  {
   "cell_type": "markdown",
   "metadata": {
    "slideshow": {
     "slide_type": "slide"
    }
   },
   "source": [
    "### 時間序列資料分析\n",
    "\n",
    "- 移動視窗資料\n",
    "- 移動平均值"
   ]
  },
  {
   "cell_type": "code",
   "execution_count": 17,
   "metadata": {
    "slideshow": {
     "slide_type": "slide"
    }
   },
   "outputs": [
    {
     "data": {
      "text/plain": [
       "Rolling [window=5,center=False,axis=0]"
      ]
     },
     "execution_count": 17,
     "metadata": {},
     "output_type": "execute_result"
    }
   ],
   "source": [
    "# 5日移動視窗資料s\n",
    "s = s2330.rolling(5)\n",
    "s"
   ]
  },
  {
   "cell_type": "code",
   "execution_count": 18,
   "metadata": {
    "slideshow": {
     "slide_type": "slide"
    }
   },
   "outputs": [
    {
     "data": {
      "text/html": [
       "<div>\n",
       "<style scoped>\n",
       "    .dataframe tbody tr th:only-of-type {\n",
       "        vertical-align: middle;\n",
       "    }\n",
       "\n",
       "    .dataframe tbody tr th {\n",
       "        vertical-align: top;\n",
       "    }\n",
       "\n",
       "    .dataframe thead th {\n",
       "        text-align: right;\n",
       "    }\n",
       "</style>\n",
       "<table border=\"1\" class=\"dataframe\">\n",
       "  <thead>\n",
       "    <tr style=\"text-align: right;\">\n",
       "      <th></th>\n",
       "      <th>High</th>\n",
       "      <th>Low</th>\n",
       "      <th>Open</th>\n",
       "      <th>Close</th>\n",
       "      <th>Volume</th>\n",
       "      <th>Adj Close</th>\n",
       "    </tr>\n",
       "    <tr>\n",
       "      <th>Date</th>\n",
       "      <th></th>\n",
       "      <th></th>\n",
       "      <th></th>\n",
       "      <th></th>\n",
       "      <th></th>\n",
       "      <th></th>\n",
       "    </tr>\n",
       "  </thead>\n",
       "  <tbody>\n",
       "    <tr>\n",
       "      <th>2020-01-02</th>\n",
       "      <td>NaN</td>\n",
       "      <td>NaN</td>\n",
       "      <td>NaN</td>\n",
       "      <td>NaN</td>\n",
       "      <td>NaN</td>\n",
       "      <td>NaN</td>\n",
       "    </tr>\n",
       "    <tr>\n",
       "      <th>2020-01-03</th>\n",
       "      <td>NaN</td>\n",
       "      <td>NaN</td>\n",
       "      <td>NaN</td>\n",
       "      <td>NaN</td>\n",
       "      <td>NaN</td>\n",
       "      <td>NaN</td>\n",
       "    </tr>\n",
       "    <tr>\n",
       "      <th>2020-01-06</th>\n",
       "      <td>NaN</td>\n",
       "      <td>NaN</td>\n",
       "      <td>NaN</td>\n",
       "      <td>NaN</td>\n",
       "      <td>NaN</td>\n",
       "      <td>NaN</td>\n",
       "    </tr>\n",
       "    <tr>\n",
       "      <th>2020-01-07</th>\n",
       "      <td>NaN</td>\n",
       "      <td>NaN</td>\n",
       "      <td>NaN</td>\n",
       "      <td>NaN</td>\n",
       "      <td>NaN</td>\n",
       "      <td>NaN</td>\n",
       "    </tr>\n",
       "    <tr>\n",
       "      <th>2020-01-08</th>\n",
       "      <td>336.9</td>\n",
       "      <td>330.3</td>\n",
       "      <td>333.4</td>\n",
       "      <td>333.9</td>\n",
       "      <td>41471074.8</td>\n",
       "      <td>328.064905</td>\n",
       "    </tr>\n",
       "    <tr>\n",
       "      <th>...</th>\n",
       "      <td>...</td>\n",
       "      <td>...</td>\n",
       "      <td>...</td>\n",
       "      <td>...</td>\n",
       "      <td>...</td>\n",
       "      <td>...</td>\n",
       "    </tr>\n",
       "    <tr>\n",
       "      <th>2020-07-27</th>\n",
       "      <td>395.1</td>\n",
       "      <td>385.6</td>\n",
       "      <td>389.2</td>\n",
       "      <td>391.8</td>\n",
       "      <td>67840922.4</td>\n",
       "      <td>391.800000</td>\n",
       "    </tr>\n",
       "    <tr>\n",
       "      <th>2020-07-28</th>\n",
       "      <td>411.0</td>\n",
       "      <td>397.0</td>\n",
       "      <td>407.5</td>\n",
       "      <td>402.2</td>\n",
       "      <td>88258646.0</td>\n",
       "      <td>402.200000</td>\n",
       "    </tr>\n",
       "    <tr>\n",
       "      <th>2020-07-29</th>\n",
       "      <td>420.1</td>\n",
       "      <td>405.1</td>\n",
       "      <td>416.9</td>\n",
       "      <td>409.8</td>\n",
       "      <td>96639345.2</td>\n",
       "      <td>409.800000</td>\n",
       "    </tr>\n",
       "    <tr>\n",
       "      <th>2020-07-30</th>\n",
       "      <td>431.7</td>\n",
       "      <td>415.0</td>\n",
       "      <td>427.8</td>\n",
       "      <td>420.3</td>\n",
       "      <td>101456278.6</td>\n",
       "      <td>420.300000</td>\n",
       "    </tr>\n",
       "    <tr>\n",
       "      <th>2020-07-31</th>\n",
       "      <td>439.1</td>\n",
       "      <td>423.7</td>\n",
       "      <td>435.0</td>\n",
       "      <td>428.2</td>\n",
       "      <td>94099266.6</td>\n",
       "      <td>428.200000</td>\n",
       "    </tr>\n",
       "  </tbody>\n",
       "</table>\n",
       "<p>139 rows × 6 columns</p>\n",
       "</div>"
      ],
      "text/plain": [
       "             High    Low   Open  Close       Volume   Adj Close\n",
       "Date                                                           \n",
       "2020-01-02    NaN    NaN    NaN    NaN          NaN         NaN\n",
       "2020-01-03    NaN    NaN    NaN    NaN          NaN         NaN\n",
       "2020-01-06    NaN    NaN    NaN    NaN          NaN         NaN\n",
       "2020-01-07    NaN    NaN    NaN    NaN          NaN         NaN\n",
       "2020-01-08  336.9  330.3  333.4  333.9   41471074.8  328.064905\n",
       "...           ...    ...    ...    ...          ...         ...\n",
       "2020-07-27  395.1  385.6  389.2  391.8   67840922.4  391.800000\n",
       "2020-07-28  411.0  397.0  407.5  402.2   88258646.0  402.200000\n",
       "2020-07-29  420.1  405.1  416.9  409.8   96639345.2  409.800000\n",
       "2020-07-30  431.7  415.0  427.8  420.3  101456278.6  420.300000\n",
       "2020-07-31  439.1  423.7  435.0  428.2   94099266.6  428.200000\n",
       "\n",
       "[139 rows x 6 columns]"
      ]
     },
     "execution_count": 18,
     "metadata": {},
     "output_type": "execute_result"
    }
   ],
   "source": [
    "# 5日移動平均值\n",
    "s.mean()"
   ]
  },
  {
   "cell_type": "markdown",
   "metadata": {
    "slideshow": {
     "slide_type": "slide"
    }
   },
   "source": [
    "### **練習 2：股價資料的敘述統計量**\n",
    "1. 下載台積電(2330.tw)從今年1月至7月的每日股價\n",
    "3. 計算這家公司的平均數、標準差、最小值與最大值、第一四分位數、第三四分位數 (`describe()`)。\n",
    "4. 計算這家公司的交易量與收盤價的相關係數 (`corr`)。\n"
   ]
  },
  {
   "cell_type": "markdown",
   "metadata": {
    "slideshow": {
     "slide_type": "slide"
    }
   },
   "source": [
    "------\n",
    "<a id='c5'></a>\n",
    "## **5 資料視覺化**\n",
    "[回目錄](#HOME)"
   ]
  },
  {
   "cell_type": "code",
   "execution_count": 19,
   "metadata": {
    "scrolled": true,
    "slideshow": {
     "slide_type": "slide"
    }
   },
   "outputs": [
    {
     "data": {
      "text/plain": [
       "<matplotlib.axes._subplots.AxesSubplot at 0x17b120fc888>"
      ]
     },
     "execution_count": 19,
     "metadata": {},
     "output_type": "execute_result"
    },
    {
     "data": {
      "image/png": "[encoded data removed]",
      "text/plain": [
       "<Figure size 432x288 with 1 Axes>"
      ]
     },
     "metadata": {
      "needs_background": "light"
     },
     "output_type": "display_data"
    }
   ],
   "source": [
    "# 時間序列圖\n",
    "# 2330 台積電收盤價變動趨劫\n",
    "s2330['Close'].plot()"
   ]
  },
  {
   "cell_type": "code",
   "execution_count": 20,
   "metadata": {
    "slideshow": {
     "slide_type": "slide"
    }
   },
   "outputs": [
    {
     "data": {
      "text/plain": [
       "<matplotlib.axes._subplots.AxesSubplot at 0x17b11fecb48>"
      ]
     },
     "execution_count": 20,
     "metadata": {},
     "output_type": "execute_result"
    },
    {
     "data": {
      "image/png": "[encoded data removed]",
      "text/plain": [
       "<Figure size 432x288 with 1 Axes>"
      ]
     },
     "metadata": {
      "needs_background": "light"
     },
     "output_type": "display_data"
    }
   ],
   "source": [
    "# 將收盤價20日移動平均線和收盤價畫在同一個圖\n",
    "s2330['Close'].plot()\n",
    "s2330['Close'].rolling(20).mean().plot()"
   ]
  },
  {
   "cell_type": "markdown",
   "metadata": {
    "slideshow": {
     "slide_type": "skip"
    }
   },
   "source": [
    "### **K線圖**"
   ]
  },
  {
   "cell_type": "code",
   "execution_count": 21,
   "metadata": {
    "slideshow": {
     "slide_type": "slide"
    }
   },
   "outputs": [
    {
     "data": {
      "text/plain": [
       "<pyecharts.charts.basic_charts.kline.Kline at 0x17b14147f88>"
      ]
     },
     "execution_count": 21,
     "metadata": {},
     "output_type": "execute_result"
    }
   ],
   "source": [
    "KBar = [] \n",
    "Date = []\n",
    "\n",
    "for i in range(0, s2330.shape[0]):\n",
    "    day = s2330.index[i]\n",
    "    price = [s2330[\"Open\"][i], s2330[\"Close\"][i], s2330[\"Low\"][i], s2330[\"High\"][i]]\n",
    "    Date.append(day)\n",
    "    KBar.append(price)\n",
    "    \n",
    "kline = Kline()  \n",
    "kline.add_xaxis(xaxis_data = Date) \n",
    "kline.add_yaxis(series_name = \"股價\", \n",
    "                y_axis = KBar,  \n",
    "                itemstyle_opts = opts.ItemStyleOpts(color = \"#C23531\",\n",
    "                                                    color0 = \"#00da3c\", \n",
    "                                                    border_color = \"#C23531\", \n",
    "                                                    border_color0 = \"#00da3c\"),\n",
    "                )"
   ]
  },
  {
   "cell_type": "code",
   "execution_count": 22,
   "metadata": {
    "slideshow": {
     "slide_type": "slide"
    }
   },
   "outputs": [
    {
     "data": {
      "text/html": [
       "\n",
       "<script>\n",
       "    require.config({\n",
       "        paths: {\n",
       "            'echarts':'https://assets.pyecharts.org/assets/echarts.min'\n",
       "        }\n",
       "    });\n",
       "</script>\n",
       "\n",
       "        <div id=\"8572c01adee7488f836910abfd54eac3\" style=\"width:900px; height:500px;\"></div>\n",
       "\n",
       "<script>\n",
       "        require(['echarts'], function(echarts) {\n",
       "                var chart_8572c01adee7488f836910abfd54eac3 = echarts.init(\n",
       "                    document.getElementById('8572c01adee7488f836910abfd54eac3'), 'white', {renderer: 'canvas'});\n",
       "                var option_8572c01adee7488f836910abfd54eac3 = {\n",
       "    \"animation\": true,\n",
       "    \"animationThreshold\": 2000,\n",
       "    \"animationDuration\": 1000,\n",
       "    \"animationEasing\": \"cubicOut\",\n",
       "    \"animationDelay\": 0,\n",
       "    \"animationDurationUpdate\": 300,\n",
       "    \"animationEasingUpdate\": \"cubicOut\",\n",
       "    \"animationDelayUpdate\": 0,\n",
       "    \"color\": [\n",
       "        \"#c23531\",\n",
       "        \"#2f4554\",\n",
       "        \"#61a0a8\",\n",
       "        \"#d48265\",\n",
       "        \"#749f83\",\n",
       "        \"#ca8622\",\n",
       "        \"#bda29a\",\n",
       "        \"#6e7074\",\n",
       "        \"#546570\",\n",
       "        \"#c4ccd3\",\n",
       "        \"#f05b72\",\n",
       "        \"#ef5b9c\",\n",
       "        \"#f47920\",\n",
       "        \"#905a3d\",\n",
       "        \"#fab27b\",\n",
       "        \"#2a5caa\",\n",
       "        \"#444693\",\n",
       "        \"#726930\",\n",
       "        \"#b2d235\",\n",
       "        \"#6d8346\",\n",
       "        \"#ac6767\",\n",
       "        \"#1d953f\",\n",
       "        \"#6950a1\",\n",
       "        \"#918597\"\n",
       "    ],\n",
       "    \"series\": [\n",
       "        {\n",
       "            \"type\": \"candlestick\",\n",
       "            \"name\": \"\\u80a1\\u50f9\",\n",
       "            \"data\": [\n",
       "                [\n",
       "                    332.5,\n",
       "                    339.0,\n",
       "                    332.5,\n",
       "                    339.0\n",
       "                ],\n",
       "                [\n",
       "                    344.0,\n",
       "                    339.5,\n",
       "                    335.5,\n",
       "                    345.0\n",
       "                ],\n",
       "                [\n",
       "                    333.0,\n",
       "                    332.0,\n",
       "                    332.0,\n",
       "                    334.5\n",
       "                ],\n",
       "                [\n",
       "                    332.5,\n",
       "                    329.5,\n",
       "                    326.5,\n",
       "                    333.0\n",
       "                ],\n",
       "                [\n",
       "                    325.0,\n",
       "                    329.5,\n",
       "                    325.0,\n",
       "                    333.0\n",
       "                ],\n",
       "                [\n",
       "                    335.0,\n",
       "                    337.5,\n",
       "                    333.5,\n",
       "                    337.5\n",
       "                ],\n",
       "                [\n",
       "                    340.5,\n",
       "                    339.5,\n",
       "                    336.0,\n",
       "                    341.0\n",
       "                ],\n",
       "                [\n",
       "                    342.0,\n",
       "                    341.5,\n",
       "                    339.0,\n",
       "                    342.0\n",
       "                ],\n",
       "                [\n",
       "                    345.5,\n",
       "                    346.0,\n",
       "                    344.5,\n",
       "                    346.0\n",
       "                ],\n",
       "                [\n",
       "                    345.0,\n",
       "                    340.0,\n",
       "                    337.5,\n",
       "                    345.0\n",
       "                ],\n",
       "                [\n",
       "                    330.0,\n",
       "                    334.5,\n",
       "                    330.0,\n",
       "                    336.5\n",
       "                ],\n",
       "                [\n",
       "                    334.0,\n",
       "                    333.0,\n",
       "                    332.0,\n",
       "                    335.5\n",
       "                ],\n",
       "                [\n",
       "                    334.0,\n",
       "                    333.0,\n",
       "                    333.0,\n",
       "                    335.5\n",
       "                ],\n",
       "                [\n",
       "                    326.0,\n",
       "                    316.5,\n",
       "                    316.5,\n",
       "                    326.0\n",
       "                ],\n",
       "                [\n",
       "                    323.0,\n",
       "                    320.0,\n",
       "                    319.0,\n",
       "                    323.5\n",
       "                ],\n",
       "                [\n",
       "                    315.0,\n",
       "                    315.0,\n",
       "                    312.0,\n",
       "                    316.5\n",
       "                ],\n",
       "                [\n",
       "                    336.5,\n",
       "                    325.0,\n",
       "                    325.0,\n",
       "                    337.0\n",
       "                ],\n",
       "                [\n",
       "                    329.0,\n",
       "                    327.5,\n",
       "                    324.5,\n",
       "                    329.5\n",
       "                ],\n",
       "                [\n",
       "                    329.5,\n",
       "                    332.5,\n",
       "                    329.0,\n",
       "                    332.5\n",
       "                ],\n",
       "                [\n",
       "                    330.0,\n",
       "                    328.0,\n",
       "                    326.0,\n",
       "                    330.5\n",
       "                ],\n",
       "                [\n",
       "                    321.5,\n",
       "                    327.5,\n",
       "                    321.0,\n",
       "                    328.0\n",
       "                ],\n",
       "                [\n",
       "                    330.5,\n",
       "                    331.5,\n",
       "                    330.0,\n",
       "                    332.5\n",
       "                ],\n",
       "                [\n",
       "                    333.5,\n",
       "                    335.0,\n",
       "                    333.0,\n",
       "                    336.0\n",
       "                ],\n",
       "                [\n",
       "                    338.0,\n",
       "                    335.0,\n",
       "                    335.0,\n",
       "                    338.0\n",
       "                ],\n",
       "                [\n",
       "                    337.0,\n",
       "                    335.0,\n",
       "                    334.5,\n",
       "                    337.0\n",
       "                ],\n",
       "                [\n",
       "                    331.5,\n",
       "                    331.5,\n",
       "                    330.5,\n",
       "                    333.0\n",
       "                ],\n",
       "                [\n",
       "                    324.5,\n",
       "                    322.0,\n",
       "                    322.0,\n",
       "                    326.5\n",
       "                ],\n",
       "                [\n",
       "                    322.5,\n",
       "                    326.5,\n",
       "                    322.0,\n",
       "                    327.0\n",
       "                ],\n",
       "                [\n",
       "                    328.0,\n",
       "                    325.5,\n",
       "                    325.0,\n",
       "                    329.0\n",
       "                ],\n",
       "                [\n",
       "                    325.5,\n",
       "                    325.0,\n",
       "                    323.0,\n",
       "                    326.5\n",
       "                ],\n",
       "                [\n",
       "                    319.5,\n",
       "                    320.0,\n",
       "                    319.5,\n",
       "                    321.5\n",
       "                ],\n",
       "                [\n",
       "                    320.0,\n",
       "                    322.0,\n",
       "                    317.5,\n",
       "                    323.5\n",
       "                ],\n",
       "                [\n",
       "                    317.0,\n",
       "                    318.5,\n",
       "                    316.5,\n",
       "                    320.5\n",
       "                ],\n",
       "                [\n",
       "                    319.0,\n",
       "                    316.0,\n",
       "                    315.0,\n",
       "                    320.0\n",
       "                ],\n",
       "                [\n",
       "                    308.0,\n",
       "                    311.0,\n",
       "                    308.0,\n",
       "                    317.0\n",
       "                ],\n",
       "                [\n",
       "                    318.5,\n",
       "                    317.5,\n",
       "                    316.0,\n",
       "                    320.0\n",
       "                ],\n",
       "                [\n",
       "                    322.0,\n",
       "                    320.5,\n",
       "                    317.0,\n",
       "                    322.0\n",
       "                ],\n",
       "                [\n",
       "                    325.0,\n",
       "                    323.0,\n",
       "                    323.0,\n",
       "                    326.0\n",
       "                ],\n",
       "                [\n",
       "                    320.0,\n",
       "                    315.0,\n",
       "                    315.0,\n",
       "                    320.5\n",
       "                ],\n",
       "                [\n",
       "                    307.5,\n",
       "                    305.5,\n",
       "                    305.5,\n",
       "                    310.0\n",
       "                ],\n",
       "                [\n",
       "                    301.5,\n",
       "                    307.0,\n",
       "                    301.0,\n",
       "                    309.0\n",
       "                ],\n",
       "                [\n",
       "                    309.0,\n",
       "                    302.0,\n",
       "                    302.0,\n",
       "                    310.5\n",
       "                ],\n",
       "                [\n",
       "                    299.0,\n",
       "                    294.0,\n",
       "                    287.0,\n",
       "                    299.0\n",
       "                ],\n",
       "                [\n",
       "                    275.0,\n",
       "                    290.0,\n",
       "                    272.5,\n",
       "                    294.0\n",
       "                ],\n",
       "                [\n",
       "                    285.0,\n",
       "                    276.5,\n",
       "                    275.5,\n",
       "                    291.0\n",
       "                ],\n",
       "                [\n",
       "                    265.0,\n",
       "                    268.0,\n",
       "                    265.0,\n",
       "                    276.5\n",
       "                ],\n",
       "                [\n",
       "                    269.5,\n",
       "                    260.0,\n",
       "                    260.0,\n",
       "                    272.5\n",
       "                ],\n",
       "                [\n",
       "                    252.0,\n",
       "                    248.0,\n",
       "                    235.5,\n",
       "                    253.0\n",
       "                ],\n",
       "                [\n",
       "                    258.5,\n",
       "                    270.0,\n",
       "                    256.0,\n",
       "                    270.0\n",
       "                ],\n",
       "                [\n",
       "                    257.0,\n",
       "                    255.0,\n",
       "                    252.0,\n",
       "                    262.5\n",
       "                ],\n",
       "                [\n",
       "                    268.0,\n",
       "                    267.5,\n",
       "                    266.0,\n",
       "                    274.0\n",
       "                ],\n",
       "                [\n",
       "                    276.5,\n",
       "                    277.0,\n",
       "                    274.0,\n",
       "                    280.0\n",
       "                ],\n",
       "                [\n",
       "                    279.5,\n",
       "                    280.0,\n",
       "                    275.5,\n",
       "                    280.0\n",
       "                ],\n",
       "                [\n",
       "                    284.0,\n",
       "                    273.0,\n",
       "                    273.0,\n",
       "                    286.0\n",
       "                ],\n",
       "                [\n",
       "                    263.5,\n",
       "                    267.5,\n",
       "                    262.5,\n",
       "                    269.0\n",
       "                ],\n",
       "                [\n",
       "                    273.0,\n",
       "                    274.0,\n",
       "                    269.5,\n",
       "                    274.0\n",
       "                ],\n",
       "                [\n",
       "                    276.5,\n",
       "                    271.5,\n",
       "                    271.5,\n",
       "                    276.5\n",
       "                ],\n",
       "                [\n",
       "                    273.0,\n",
       "                    275.5,\n",
       "                    270.0,\n",
       "                    275.5\n",
       "                ],\n",
       "                [\n",
       "                    283.5,\n",
       "                    283.0,\n",
       "                    280.5,\n",
       "                    284.0\n",
       "                ],\n",
       "                [\n",
       "                    285.0,\n",
       "                    285.0,\n",
       "                    283.0,\n",
       "                    285.5\n",
       "                ],\n",
       "                [\n",
       "                    287.5,\n",
       "                    283.0,\n",
       "                    282.5,\n",
       "                    288.0\n",
       "                ],\n",
       "                [\n",
       "                    280.0,\n",
       "                    279.5,\n",
       "                    279.0,\n",
       "                    282.0\n",
       "                ],\n",
       "                [\n",
       "                    278.5,\n",
       "                    278.5,\n",
       "                    278.5,\n",
       "                    281.5\n",
       "                ],\n",
       "                [\n",
       "                    281.0,\n",
       "                    285.0,\n",
       "                    280.0,\n",
       "                    285.5\n",
       "                ],\n",
       "                [\n",
       "                    287.0,\n",
       "                    287.5,\n",
       "                    286.0,\n",
       "                    288.5\n",
       "                ],\n",
       "                [\n",
       "                    283.0,\n",
       "                    286.5,\n",
       "                    283.0,\n",
       "                    288.5\n",
       "                ],\n",
       "                [\n",
       "                    303.5,\n",
       "                    306.5,\n",
       "                    300.5,\n",
       "                    308.5\n",
       "                ],\n",
       "                [\n",
       "                    308.0,\n",
       "                    304.0,\n",
       "                    302.5,\n",
       "                    309.0\n",
       "                ],\n",
       "                [\n",
       "                    300.5,\n",
       "                    295.0,\n",
       "                    293.5,\n",
       "                    301.5\n",
       "                ],\n",
       "                [\n",
       "                    294.5,\n",
       "                    294.0,\n",
       "                    290.5,\n",
       "                    295.0\n",
       "                ],\n",
       "                [\n",
       "                    300.0,\n",
       "                    295.5,\n",
       "                    294.0,\n",
       "                    300.0\n",
       "                ],\n",
       "                [\n",
       "                    295.5,\n",
       "                    294.0,\n",
       "                    294.0,\n",
       "                    297.0\n",
       "                ],\n",
       "                [\n",
       "                    298.0,\n",
       "                    298.0,\n",
       "                    296.0,\n",
       "                    298.5\n",
       "                ],\n",
       "                [\n",
       "                    298.5,\n",
       "                    296.5,\n",
       "                    294.5,\n",
       "                    298.5\n",
       "                ],\n",
       "                [\n",
       "                    299.0,\n",
       "                    299.0,\n",
       "                    298.0,\n",
       "                    301.5\n",
       "                ],\n",
       "                [\n",
       "                    302.0,\n",
       "                    304.5,\n",
       "                    301.5,\n",
       "                    305.0\n",
       "                ],\n",
       "                [\n",
       "                    294.5,\n",
       "                    295.0,\n",
       "                    294.0,\n",
       "                    296.5\n",
       "                ],\n",
       "                [\n",
       "                    296.5,\n",
       "                    295.5,\n",
       "                    295.0,\n",
       "                    298.0\n",
       "                ],\n",
       "                [\n",
       "                    294.5,\n",
       "                    296.0,\n",
       "                    292.5,\n",
       "                    296.0\n",
       "                ],\n",
       "                [\n",
       "                    294.5,\n",
       "                    297.5,\n",
       "                    294.5,\n",
       "                    299.0\n",
       "                ],\n",
       "                [\n",
       "                    300.0,\n",
       "                    297.5,\n",
       "                    296.0,\n",
       "                    300.0\n",
       "                ],\n",
       "                [\n",
       "                    300.0,\n",
       "                    301.0,\n",
       "                    298.5,\n",
       "                    301.5\n",
       "                ],\n",
       "                [\n",
       "                    297.5,\n",
       "                    295.0,\n",
       "                    295.0,\n",
       "                    298.5\n",
       "                ],\n",
       "                [\n",
       "                    293.0,\n",
       "                    297.0,\n",
       "                    292.5,\n",
       "                    297.0\n",
       "                ],\n",
       "                [\n",
       "                    293.0,\n",
       "                    293.0,\n",
       "                    292.5,\n",
       "                    295.0\n",
       "                ],\n",
       "                [\n",
       "                    297.5,\n",
       "                    298.0,\n",
       "                    294.5,\n",
       "                    298.5\n",
       "                ],\n",
       "                [\n",
       "                    291.0,\n",
       "                    290.0,\n",
       "                    290.0,\n",
       "                    293.5\n",
       "                ],\n",
       "                [\n",
       "                    294.0,\n",
       "                    291.5,\n",
       "                    291.5,\n",
       "                    294.0\n",
       "                ],\n",
       "                [\n",
       "                    293.0,\n",
       "                    294.0,\n",
       "                    291.0,\n",
       "                    294.0\n",
       "                ],\n",
       "                [\n",
       "                    296.0,\n",
       "                    297.5,\n",
       "                    295.0,\n",
       "                    298.0\n",
       "                ],\n",
       "                [\n",
       "                    294.5,\n",
       "                    292.0,\n",
       "                    291.0,\n",
       "                    295.0\n",
       "                ],\n",
       "                [\n",
       "                    290.5,\n",
       "                    292.0,\n",
       "                    288.5,\n",
       "                    293.0\n",
       "                ],\n",
       "                [\n",
       "                    295.0,\n",
       "                    295.5,\n",
       "                    293.5,\n",
       "                    297.5\n",
       "                ],\n",
       "                [\n",
       "                    297.0,\n",
       "                    296.5,\n",
       "                    295.5,\n",
       "                    298.0\n",
       "                ],\n",
       "                [\n",
       "                    298.5,\n",
       "                    294.0,\n",
       "                    293.0,\n",
       "                    298.5\n",
       "                ],\n",
       "                [\n",
       "                    292.0,\n",
       "                    292.0,\n",
       "                    290.0,\n",
       "                    292.5\n",
       "                ],\n",
       "                [\n",
       "                    294.0,\n",
       "                    295.5,\n",
       "                    293.5,\n",
       "                    296.5\n",
       "                ],\n",
       "                [\n",
       "                    296.0,\n",
       "                    296.5,\n",
       "                    296.0,\n",
       "                    297.5\n",
       "                ],\n",
       "                [\n",
       "                    300.0,\n",
       "                    301.0,\n",
       "                    298.0,\n",
       "                    301.0\n",
       "                ],\n",
       "                [\n",
       "                    305.0,\n",
       "                    306.0,\n",
       "                    304.0,\n",
       "                    306.0\n",
       "                ],\n",
       "                [\n",
       "                    308.5,\n",
       "                    311.5,\n",
       "                    308.0,\n",
       "                    312.0\n",
       "                ],\n",
       "                [\n",
       "                    316.0,\n",
       "                    318.0,\n",
       "                    315.0,\n",
       "                    319.0\n",
       "                ],\n",
       "                [\n",
       "                    316.5,\n",
       "                    319.0,\n",
       "                    314.0,\n",
       "                    319.0\n",
       "                ],\n",
       "                [\n",
       "                    319.0,\n",
       "                    322.5,\n",
       "                    318.0,\n",
       "                    324.0\n",
       "                ],\n",
       "                [\n",
       "                    325.5,\n",
       "                    320.5,\n",
       "                    318.5,\n",
       "                    327.0\n",
       "                ],\n",
       "                [\n",
       "                    313.0,\n",
       "                    316.0,\n",
       "                    312.5,\n",
       "                    317.5\n",
       "                ],\n",
       "                [\n",
       "                    316.0,\n",
       "                    309.5,\n",
       "                    308.5,\n",
       "                    317.5\n",
       "                ],\n",
       "                [\n",
       "                    317.0,\n",
       "                    315.0,\n",
       "                    314.0,\n",
       "                    317.0\n",
       "                ],\n",
       "                [\n",
       "                    316.5,\n",
       "                    315.0,\n",
       "                    313.5,\n",
       "                    317.0\n",
       "                ],\n",
       "                [\n",
       "                    314.5,\n",
       "                    314.5,\n",
       "                    313.0,\n",
       "                    315.0\n",
       "                ],\n",
       "                [\n",
       "                    314.0,\n",
       "                    314.5,\n",
       "                    312.0,\n",
       "                    314.5\n",
       "                ],\n",
       "                [\n",
       "                    314.5,\n",
       "                    312.0,\n",
       "                    312.0,\n",
       "                    316.5\n",
       "                ],\n",
       "                [\n",
       "                    316.0,\n",
       "                    315.0,\n",
       "                    312.5,\n",
       "                    316.5\n",
       "                ],\n",
       "                [\n",
       "                    319.0,\n",
       "                    317.5,\n",
       "                    316.0,\n",
       "                    320.0\n",
       "                ],\n",
       "                [\n",
       "                    314.0,\n",
       "                    312.0,\n",
       "                    310.0,\n",
       "                    315.0\n",
       "                ],\n",
       "                [\n",
       "                    313.5,\n",
       "                    313.0,\n",
       "                    311.0,\n",
       "                    314.0\n",
       "                ],\n",
       "                [\n",
       "                    315.0,\n",
       "                    317.5,\n",
       "                    314.0,\n",
       "                    318.0\n",
       "                ],\n",
       "                [\n",
       "                    319.0,\n",
       "                    322.0,\n",
       "                    318.0,\n",
       "                    322.0\n",
       "                ],\n",
       "                [\n",
       "                    327.0,\n",
       "                    329.5,\n",
       "                    326.5,\n",
       "                    330.5\n",
       "                ],\n",
       "                [\n",
       "                    332.5,\n",
       "                    338.0,\n",
       "                    332.0,\n",
       "                    338.0\n",
       "                ],\n",
       "                [\n",
       "                    343.5,\n",
       "                    338.5,\n",
       "                    338.0,\n",
       "                    346.0\n",
       "                ],\n",
       "                [\n",
       "                    337.5,\n",
       "                    341.0,\n",
       "                    337.5,\n",
       "                    342.5\n",
       "                ],\n",
       "                [\n",
       "                    346.0,\n",
       "                    345.0,\n",
       "                    343.0,\n",
       "                    347.0\n",
       "                ],\n",
       "                [\n",
       "                    352.5,\n",
       "                    348.5,\n",
       "                    345.5,\n",
       "                    353.0\n",
       "                ],\n",
       "                [\n",
       "                    351.0,\n",
       "                    354.5,\n",
       "                    350.5,\n",
       "                    354.5\n",
       "                ],\n",
       "                [\n",
       "                    355.0,\n",
       "                    363.5,\n",
       "                    354.5,\n",
       "                    364.0\n",
       "                ],\n",
       "                [\n",
       "                    366.0,\n",
       "                    363.0,\n",
       "                    361.0,\n",
       "                    370.0\n",
       "                ],\n",
       "                [\n",
       "                    359.0,\n",
       "                    357.5,\n",
       "                    353.5,\n",
       "                    361.0\n",
       "                ],\n",
       "                [\n",
       "                    361.0,\n",
       "                    367.0,\n",
       "                    360.0,\n",
       "                    369.0\n",
       "                ],\n",
       "                [\n",
       "                    370.0,\n",
       "                    366.0,\n",
       "                    362.5,\n",
       "                    370.0\n",
       "                ],\n",
       "                [\n",
       "                    372.5,\n",
       "                    383.0,\n",
       "                    371.5,\n",
       "                    387.0\n",
       "                ],\n",
       "                [\n",
       "                    381.0,\n",
       "                    384.0,\n",
       "                    379.0,\n",
       "                    386.0\n",
       "                ],\n",
       "                [\n",
       "                    382.0,\n",
       "                    381.5,\n",
       "                    379.0,\n",
       "                    383.0\n",
       "                ],\n",
       "                [\n",
       "                    390.0,\n",
       "                    386.0,\n",
       "                    382.0,\n",
       "                    395.0\n",
       "                ],\n",
       "                [\n",
       "                    420.5,\n",
       "                    424.5,\n",
       "                    416.5,\n",
       "                    424.5\n",
       "                ],\n",
       "                [\n",
       "                    464.0,\n",
       "                    435.0,\n",
       "                    428.5,\n",
       "                    466.5\n",
       "                ],\n",
       "                [\n",
       "                    428.0,\n",
       "                    422.0,\n",
       "                    419.5,\n",
       "                    431.5\n",
       "                ],\n",
       "                [\n",
       "                    436.5,\n",
       "                    434.0,\n",
       "                    428.5,\n",
       "                    441.0\n",
       "                ],\n",
       "                [\n",
       "                    426.0,\n",
       "                    425.5,\n",
       "                    425.5,\n",
       "                    432.0\n",
       "                ]\n",
       "            ],\n",
       "            \"itemStyle\": {\n",
       "                \"color\": \"#C23531\",\n",
       "                \"color0\": \"#00da3c\",\n",
       "                \"borderColor\": \"#C23531\",\n",
       "                \"borderColor0\": \"#00da3c\"\n",
       "            }\n",
       "        }\n",
       "    ],\n",
       "    \"legend\": [\n",
       "        {\n",
       "            \"data\": [\n",
       "                \"\\u80a1\\u50f9\"\n",
       "            ],\n",
       "            \"selected\": {\n",
       "                \"\\u80a1\\u50f9\": true\n",
       "            },\n",
       "            \"show\": true,\n",
       "            \"padding\": 5,\n",
       "            \"itemGap\": 10,\n",
       "            \"itemWidth\": 25,\n",
       "            \"itemHeight\": 14\n",
       "        }\n",
       "    ],\n",
       "    \"tooltip\": {\n",
       "        \"show\": true,\n",
       "        \"trigger\": \"axis\",\n",
       "        \"triggerOn\": \"mousemove|click\",\n",
       "        \"axisPointer\": {\n",
       "            \"type\": \"cross\"\n",
       "        },\n",
       "        \"textStyle\": {\n",
       "            \"color\": \"#000\"\n",
       "        },\n",
       "        \"backgroundColor\": \"rgba(245, 245, 245, 0.8)\",\n",
       "        \"borderColor\": \"#ccc\",\n",
       "        \"borderWidth\": 1\n",
       "    },\n",
       "    \"xAxis\": [\n",
       "        {\n",
       "            \"show\": true,\n",
       "            \"scale\": true,\n",
       "            \"nameLocation\": \"end\",\n",
       "            \"nameGap\": 15,\n",
       "            \"gridIndex\": 0,\n",
       "            \"inverse\": false,\n",
       "            \"offset\": 0,\n",
       "            \"splitNumber\": 5,\n",
       "            \"minInterval\": 0,\n",
       "            \"splitLine\": {\n",
       "                \"show\": false,\n",
       "                \"lineStyle\": {\n",
       "                    \"show\": true,\n",
       "                    \"width\": 1,\n",
       "                    \"opacity\": 1,\n",
       "                    \"curveness\": 0,\n",
       "                    \"type\": \"solid\"\n",
       "                }\n",
       "            },\n",
       "            \"data\": [\n",
       "                \"2020-01-02T00:00:00\",\n",
       "                \"2020-01-03T00:00:00\",\n",
       "                \"2020-01-06T00:00:00\",\n",
       "                \"2020-01-07T00:00:00\",\n",
       "                \"2020-01-08T00:00:00\",\n",
       "                \"2020-01-09T00:00:00\",\n",
       "                \"2020-01-10T00:00:00\",\n",
       "                \"2020-01-13T00:00:00\",\n",
       "                \"2020-01-14T00:00:00\",\n",
       "                \"2020-01-15T00:00:00\",\n",
       "                \"2020-01-16T00:00:00\",\n",
       "                \"2020-01-17T00:00:00\",\n",
       "                \"2020-01-20T00:00:00\",\n",
       "                \"2020-01-30T00:00:00\",\n",
       "                \"2020-01-31T00:00:00\",\n",
       "                \"2020-02-03T00:00:00\",\n",
       "                \"2020-02-04T00:00:00\",\n",
       "                \"2020-02-05T00:00:00\",\n",
       "                \"2020-02-06T00:00:00\",\n",
       "                \"2020-02-07T00:00:00\",\n",
       "                \"2020-02-10T00:00:00\",\n",
       "                \"2020-02-11T00:00:00\",\n",
       "                \"2020-02-12T00:00:00\",\n",
       "                \"2020-02-13T00:00:00\",\n",
       "                \"2020-02-14T00:00:00\",\n",
       "                \"2020-02-17T00:00:00\",\n",
       "                \"2020-02-18T00:00:00\",\n",
       "                \"2020-02-19T00:00:00\",\n",
       "                \"2020-02-20T00:00:00\",\n",
       "                \"2020-02-21T00:00:00\",\n",
       "                \"2020-02-24T00:00:00\",\n",
       "                \"2020-02-25T00:00:00\",\n",
       "                \"2020-02-26T00:00:00\",\n",
       "                \"2020-02-27T00:00:00\",\n",
       "                \"2020-03-02T00:00:00\",\n",
       "                \"2020-03-03T00:00:00\",\n",
       "                \"2020-03-04T00:00:00\",\n",
       "                \"2020-03-05T00:00:00\",\n",
       "                \"2020-03-06T00:00:00\",\n",
       "                \"2020-03-09T00:00:00\",\n",
       "                \"2020-03-10T00:00:00\",\n",
       "                \"2020-03-11T00:00:00\",\n",
       "                \"2020-03-12T00:00:00\",\n",
       "                \"2020-03-13T00:00:00\",\n",
       "                \"2020-03-16T00:00:00\",\n",
       "                \"2020-03-17T00:00:00\",\n",
       "                \"2020-03-18T00:00:00\",\n",
       "                \"2020-03-19T00:00:00\",\n",
       "                \"2020-03-20T00:00:00\",\n",
       "                \"2020-03-23T00:00:00\",\n",
       "                \"2020-03-24T00:00:00\",\n",
       "                \"2020-03-25T00:00:00\",\n",
       "                \"2020-03-26T00:00:00\",\n",
       "                \"2020-03-27T00:00:00\",\n",
       "                \"2020-03-30T00:00:00\",\n",
       "                \"2020-03-31T00:00:00\",\n",
       "                \"2020-04-01T00:00:00\",\n",
       "                \"2020-04-06T00:00:00\",\n",
       "                \"2020-04-07T00:00:00\",\n",
       "                \"2020-04-08T00:00:00\",\n",
       "                \"2020-04-09T00:00:00\",\n",
       "                \"2020-04-10T00:00:00\",\n",
       "                \"2020-04-13T00:00:00\",\n",
       "                \"2020-04-14T00:00:00\",\n",
       "                \"2020-04-15T00:00:00\",\n",
       "                \"2020-04-16T00:00:00\",\n",
       "                \"2020-04-17T00:00:00\",\n",
       "                \"2020-04-20T00:00:00\",\n",
       "                \"2020-04-21T00:00:00\",\n",
       "                \"2020-04-22T00:00:00\",\n",
       "                \"2020-04-23T00:00:00\",\n",
       "                \"2020-04-24T00:00:00\",\n",
       "                \"2020-04-27T00:00:00\",\n",
       "                \"2020-04-28T00:00:00\",\n",
       "                \"2020-04-29T00:00:00\",\n",
       "                \"2020-04-30T00:00:00\",\n",
       "                \"2020-05-04T00:00:00\",\n",
       "                \"2020-05-05T00:00:00\",\n",
       "                \"2020-05-06T00:00:00\",\n",
       "                \"2020-05-07T00:00:00\",\n",
       "                \"2020-05-08T00:00:00\",\n",
       "                \"2020-05-11T00:00:00\",\n",
       "                \"2020-05-12T00:00:00\",\n",
       "                \"2020-05-13T00:00:00\",\n",
       "                \"2020-05-14T00:00:00\",\n",
       "                \"2020-05-15T00:00:00\",\n",
       "                \"2020-05-18T00:00:00\",\n",
       "                \"2020-05-19T00:00:00\",\n",
       "                \"2020-05-20T00:00:00\",\n",
       "                \"2020-05-21T00:00:00\",\n",
       "                \"2020-05-22T00:00:00\",\n",
       "                \"2020-05-25T00:00:00\",\n",
       "                \"2020-05-26T00:00:00\",\n",
       "                \"2020-05-27T00:00:00\",\n",
       "                \"2020-05-28T00:00:00\",\n",
       "                \"2020-05-29T00:00:00\",\n",
       "                \"2020-06-01T00:00:00\",\n",
       "                \"2020-06-02T00:00:00\",\n",
       "                \"2020-06-03T00:00:00\",\n",
       "                \"2020-06-04T00:00:00\",\n",
       "                \"2020-06-05T00:00:00\",\n",
       "                \"2020-06-08T00:00:00\",\n",
       "                \"2020-06-09T00:00:00\",\n",
       "                \"2020-06-10T00:00:00\",\n",
       "                \"2020-06-11T00:00:00\",\n",
       "                \"2020-06-12T00:00:00\",\n",
       "                \"2020-06-15T00:00:00\",\n",
       "                \"2020-06-16T00:00:00\",\n",
       "                \"2020-06-17T00:00:00\",\n",
       "                \"2020-06-18T00:00:00\",\n",
       "                \"2020-06-19T00:00:00\",\n",
       "                \"2020-06-22T00:00:00\",\n",
       "                \"2020-06-23T00:00:00\",\n",
       "                \"2020-06-24T00:00:00\",\n",
       "                \"2020-06-29T00:00:00\",\n",
       "                \"2020-06-30T00:00:00\",\n",
       "                \"2020-07-01T00:00:00\",\n",
       "                \"2020-07-02T00:00:00\",\n",
       "                \"2020-07-03T00:00:00\",\n",
       "                \"2020-07-06T00:00:00\",\n",
       "                \"2020-07-07T00:00:00\",\n",
       "                \"2020-07-08T00:00:00\",\n",
       "                \"2020-07-09T00:00:00\",\n",
       "                \"2020-07-10T00:00:00\",\n",
       "                \"2020-07-13T00:00:00\",\n",
       "                \"2020-07-14T00:00:00\",\n",
       "                \"2020-07-15T00:00:00\",\n",
       "                \"2020-07-16T00:00:00\",\n",
       "                \"2020-07-17T00:00:00\",\n",
       "                \"2020-07-20T00:00:00\",\n",
       "                \"2020-07-21T00:00:00\",\n",
       "                \"2020-07-22T00:00:00\",\n",
       "                \"2020-07-23T00:00:00\",\n",
       "                \"2020-07-24T00:00:00\",\n",
       "                \"2020-07-27T00:00:00\",\n",
       "                \"2020-07-28T00:00:00\",\n",
       "                \"2020-07-29T00:00:00\",\n",
       "                \"2020-07-30T00:00:00\",\n",
       "                \"2020-07-31T00:00:00\"\n",
       "            ]\n",
       "        }\n",
       "    ],\n",
       "    \"yAxis\": [\n",
       "        {\n",
       "            \"show\": true,\n",
       "            \"scale\": true,\n",
       "            \"nameLocation\": \"end\",\n",
       "            \"nameGap\": 15,\n",
       "            \"gridIndex\": 0,\n",
       "            \"inverse\": false,\n",
       "            \"offset\": 0,\n",
       "            \"splitNumber\": 5,\n",
       "            \"minInterval\": 0,\n",
       "            \"splitLine\": {\n",
       "                \"show\": false,\n",
       "                \"lineStyle\": {\n",
       "                    \"show\": true,\n",
       "                    \"width\": 1,\n",
       "                    \"opacity\": 1,\n",
       "                    \"curveness\": 0,\n",
       "                    \"type\": \"solid\"\n",
       "                }\n",
       "            },\n",
       "            \"splitArea\": {\n",
       "                \"show\": true,\n",
       "                \"areaStyle\": {\n",
       "                    \"opacity\": 1\n",
       "                }\n",
       "            }\n",
       "        }\n",
       "    ],\n",
       "    \"title\": [\n",
       "        {\n",
       "            \"text\": \"\\u53f0\\u7a4d\\u96fb(2330)\",\n",
       "            \"padding\": 5,\n",
       "            \"itemGap\": 10\n",
       "        }\n",
       "    ],\n",
       "    \"dataZoom\": [\n",
       "        {\n",
       "            \"show\": true,\n",
       "            \"type\": \"inside\",\n",
       "            \"realtime\": true,\n",
       "            \"start\": 20,\n",
       "            \"end\": 80,\n",
       "            \"orient\": \"horizontal\",\n",
       "            \"zoomLock\": false\n",
       "        },\n",
       "        {\n",
       "            \"show\": true,\n",
       "            \"type\": \"slider\",\n",
       "            \"realtime\": true,\n",
       "            \"start\": 20,\n",
       "            \"end\": 80,\n",
       "            \"orient\": \"horizontal\",\n",
       "            \"zoomLock\": false\n",
       "        }\n",
       "    ]\n",
       "};\n",
       "                chart_8572c01adee7488f836910abfd54eac3.setOption(option_8572c01adee7488f836910abfd54eac3);\n",
       "        });\n",
       "    </script>\n"
      ],
      "text/plain": [
       "<pyecharts.render.display.HTML at 0x17b1416c448>"
      ]
     },
     "execution_count": 22,
     "metadata": {},
     "output_type": "execute_result"
    }
   ],
   "source": [
    "kline.set_global_opts(title_opts = opts.TitleOpts(title = \"台積電(2330)\"),\n",
    "                      xaxis_opts = opts.AxisOpts(is_scale = True),\n",
    "                      yaxis_opts = opts.AxisOpts(is_scale = True, \n",
    "                                                 splitarea_opts = opts.SplitAreaOpts(is_show = True, \n",
    "                                                                areastyle_opts = opts.AreaStyleOpts(opacity=1))), \n",
    "                      datazoom_opts = [opts.DataZoomOpts(type_ = \"inside\"),   \n",
    "                                       opts.DataZoomOpts(is_show=True,  \n",
    "                                                         type_=\"slider\",),\n",
    "                                       ],\n",
    "                      tooltip_opts = opts.TooltipOpts(trigger=\"axis\", \n",
    "                                                      axis_pointer_type=\"cross\", \n",
    "                                                      background_color=\"rgba(245, 245, 245, 0.8)\",\n",
    "                                                      border_width=1,\n",
    "                                                      border_color=\"#ccc\",\n",
    "                                                      textstyle_opts=opts.TextStyleOpts(color=\"#000\"), \n",
    "                                                      ),\n",
    "                      )\n",
    "kline.render_notebook()"
   ]
  },
  {
   "cell_type": "markdown",
   "metadata": {
    "slideshow": {
     "slide_type": "slide"
    }
   },
   "source": [
    "------\n",
    "<a id='appendix'></a>\n",
    "## **補充：操作Excel的寫入與寫出方法**\n",
    "[回目錄](#HOME)"
   ]
  },
  {
   "cell_type": "markdown",
   "metadata": {
    "slideshow": {
     "slide_type": "slide"
    }
   },
   "source": [
    "### **將我們下載好的股價資料儲存到Excel內**\n",
    "- 輸入的方法：to_excel\n",
    "- 輸入to_excel方法的參數：\n",
    "    1. Excel的存儲路徑：只需要輸入檔案名稱即可\n",
    "    2. sheet_name：Excel的工作表名稱"
   ]
  },
  {
   "cell_type": "code",
   "execution_count": 23,
   "metadata": {
    "slideshow": {
     "slide_type": "slide"
    }
   },
   "outputs": [],
   "source": [
    "s2330.to_excel('2330.xlsx', sheet_name='股價資料')"
   ]
  },
  {
   "cell_type": "markdown",
   "metadata": {
    "slideshow": {
     "slide_type": "slide"
    }
   },
   "source": [
    "### **讀取Excel的資料**\n",
    "- 輸入的參數：\n",
    "    1. Excel的存儲路徑：只需要輸入檔案名稱即可\n",
    "    2. sheet_name：Excel的工作表名稱\n",
    "    3. header：用哪一列作列名：一般很少設置\n",
    "    4. index_col：用作索引的欄 (如index_col = 0)"
   ]
  },
  {
   "cell_type": "code",
   "execution_count": 24,
   "metadata": {
    "slideshow": {
     "slide_type": "slide"
    }
   },
   "outputs": [
    {
     "data": {
      "text/html": [
       "<div>\n",
       "<style scoped>\n",
       "    .dataframe tbody tr th:only-of-type {\n",
       "        vertical-align: middle;\n",
       "    }\n",
       "\n",
       "    .dataframe tbody tr th {\n",
       "        vertical-align: top;\n",
       "    }\n",
       "\n",
       "    .dataframe thead th {\n",
       "        text-align: right;\n",
       "    }\n",
       "</style>\n",
       "<table border=\"1\" class=\"dataframe\">\n",
       "  <thead>\n",
       "    <tr style=\"text-align: right;\">\n",
       "      <th></th>\n",
       "      <th>High</th>\n",
       "      <th>Low</th>\n",
       "      <th>Open</th>\n",
       "      <th>Close</th>\n",
       "      <th>Volume</th>\n",
       "      <th>Adj Close</th>\n",
       "    </tr>\n",
       "    <tr>\n",
       "      <th>Date</th>\n",
       "      <th></th>\n",
       "      <th></th>\n",
       "      <th></th>\n",
       "      <th></th>\n",
       "      <th></th>\n",
       "      <th></th>\n",
       "    </tr>\n",
       "  </thead>\n",
       "  <tbody>\n",
       "    <tr>\n",
       "      <th>2020-01-02</th>\n",
       "      <td>339.0</td>\n",
       "      <td>332.5</td>\n",
       "      <td>332.5</td>\n",
       "      <td>339.0</td>\n",
       "      <td>31754120</td>\n",
       "      <td>333.075775</td>\n",
       "    </tr>\n",
       "    <tr>\n",
       "      <th>2020-01-03</th>\n",
       "      <td>345.0</td>\n",
       "      <td>335.5</td>\n",
       "      <td>344.0</td>\n",
       "      <td>339.5</td>\n",
       "      <td>41811268</td>\n",
       "      <td>333.567047</td>\n",
       "    </tr>\n",
       "    <tr>\n",
       "      <th>2020-01-06</th>\n",
       "      <td>334.5</td>\n",
       "      <td>332.0</td>\n",
       "      <td>333.0</td>\n",
       "      <td>332.0</td>\n",
       "      <td>45343057</td>\n",
       "      <td>326.198120</td>\n",
       "    </tr>\n",
       "    <tr>\n",
       "      <th>2020-01-07</th>\n",
       "      <td>333.0</td>\n",
       "      <td>326.5</td>\n",
       "      <td>332.5</td>\n",
       "      <td>329.5</td>\n",
       "      <td>50879181</td>\n",
       "      <td>323.741791</td>\n",
       "    </tr>\n",
       "    <tr>\n",
       "      <th>2020-01-08</th>\n",
       "      <td>333.0</td>\n",
       "      <td>325.0</td>\n",
       "      <td>325.0</td>\n",
       "      <td>329.5</td>\n",
       "      <td>37567748</td>\n",
       "      <td>323.741791</td>\n",
       "    </tr>\n",
       "    <tr>\n",
       "      <th>...</th>\n",
       "      <td>...</td>\n",
       "      <td>...</td>\n",
       "      <td>...</td>\n",
       "      <td>...</td>\n",
       "      <td>...</td>\n",
       "      <td>...</td>\n",
       "    </tr>\n",
       "    <tr>\n",
       "      <th>2020-07-27</th>\n",
       "      <td>424.5</td>\n",
       "      <td>416.5</td>\n",
       "      <td>420.5</td>\n",
       "      <td>424.5</td>\n",
       "      <td>99333798</td>\n",
       "      <td>424.500000</td>\n",
       "    </tr>\n",
       "    <tr>\n",
       "      <th>2020-07-28</th>\n",
       "      <td>466.5</td>\n",
       "      <td>428.5</td>\n",
       "      <td>464.0</td>\n",
       "      <td>435.0</td>\n",
       "      <td>166307746</td>\n",
       "      <td>435.000000</td>\n",
       "    </tr>\n",
       "    <tr>\n",
       "      <th>2020-07-29</th>\n",
       "      <td>431.5</td>\n",
       "      <td>419.5</td>\n",
       "      <td>428.0</td>\n",
       "      <td>422.0</td>\n",
       "      <td>85663166</td>\n",
       "      <td>422.000000</td>\n",
       "    </tr>\n",
       "    <tr>\n",
       "      <th>2020-07-30</th>\n",
       "      <td>441.0</td>\n",
       "      <td>428.5</td>\n",
       "      <td>436.5</td>\n",
       "      <td>434.0</td>\n",
       "      <td>69293949</td>\n",
       "      <td>434.000000</td>\n",
       "    </tr>\n",
       "    <tr>\n",
       "      <th>2020-07-31</th>\n",
       "      <td>432.0</td>\n",
       "      <td>425.5</td>\n",
       "      <td>426.0</td>\n",
       "      <td>425.5</td>\n",
       "      <td>49897674</td>\n",
       "      <td>425.500000</td>\n",
       "    </tr>\n",
       "  </tbody>\n",
       "</table>\n",
       "<p>139 rows × 6 columns</p>\n",
       "</div>"
      ],
      "text/plain": [
       "             High    Low   Open  Close     Volume   Adj Close\n",
       "Date                                                         \n",
       "2020-01-02  339.0  332.5  332.5  339.0   31754120  333.075775\n",
       "2020-01-03  345.0  335.5  344.0  339.5   41811268  333.567047\n",
       "2020-01-06  334.5  332.0  333.0  332.0   45343057  326.198120\n",
       "2020-01-07  333.0  326.5  332.5  329.5   50879181  323.741791\n",
       "2020-01-08  333.0  325.0  325.0  329.5   37567748  323.741791\n",
       "...           ...    ...    ...    ...        ...         ...\n",
       "2020-07-27  424.5  416.5  420.5  424.5   99333798  424.500000\n",
       "2020-07-28  466.5  428.5  464.0  435.0  166307746  435.000000\n",
       "2020-07-29  431.5  419.5  428.0  422.0   85663166  422.000000\n",
       "2020-07-30  441.0  428.5  436.5  434.0   69293949  434.000000\n",
       "2020-07-31  432.0  425.5  426.0  425.5   49897674  425.500000\n",
       "\n",
       "[139 rows x 6 columns]"
      ]
     },
     "execution_count": 24,
     "metadata": {},
     "output_type": "execute_result"
    }
   ],
   "source": [
    "x = pd.read_excel('2330.xlsx', header = 0, index_col=0)\n",
    "x"
   ]
  }
 ],
 "metadata": {
  "kernelspec": {
   "display_name": "Python 3",
   "language": "python",
   "name": "python3"
  },
  "language_info": {
   "codemirror_mode": {
    "name": "ipython",
    "version": 3
   },
   "file_extension": ".py",
   "mimetype": "text/x-python",
   "name": "python",
   "nbconvert_exporter": "python",
   "pygments_lexer": "ipython3",
   "version": "3.7.6"
  }
 },
 "nbformat": 4,
 "nbformat_minor": 4
}
